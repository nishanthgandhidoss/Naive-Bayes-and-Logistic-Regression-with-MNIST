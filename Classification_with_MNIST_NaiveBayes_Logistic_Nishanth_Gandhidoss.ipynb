{
 "cells": [
  {
   "cell_type": "markdown",
   "metadata": {},
   "source": [
    "<img src=\"https://raw.githubusercontent.com/nishanthgandhidoss/nishanthgandhidoss.github.io/master/image/tech_logo.png\" alt=\"Tech Logo\" align=\"center\" height=\"200\" width=\"200\"/>"
   ]
  },
  {
   "cell_type": "markdown",
   "metadata": {},
   "source": [
    "<h1 align=\"center\">CS 5841 - Machine Learning</h1>"
   ]
  },
  {
   "cell_type": "markdown",
   "metadata": {},
   "source": [
    "<h2 align=\"center\">Assignment 3 - Classification with Naive Bayes and Logistic Regression</h2>"
   ]
  },
  {
   "cell_type": "markdown",
   "metadata": {},
   "source": [
    "For this assignment, you will build Naive Bayes and Logistic Regression classifiers for the MNIST data set. Implement each part and present your code, results, and analysis as a Jupyter Notebook."
   ]
  },
  {
   "cell_type": "markdown",
   "metadata": {},
   "source": [
    "## Importing packages"
   ]
  },
  {
   "cell_type": "code",
   "execution_count": 1,
   "metadata": {},
   "outputs": [
    {
     "name": "stderr",
     "output_type": "stream",
     "text": [
      "Using TensorFlow backend.\n"
     ]
    },
    {
     "data": {
      "text/html": [
       "\n",
       "    <div class=\"bk-root\">\n",
       "        <a href=\"https://bokeh.pydata.org\" target=\"_blank\" class=\"bk-logo bk-logo-small bk-logo-notebook\"></a>\n",
       "        <span id=\"80ed22db-adce-4024-acdf-17b9a815dafc\">Loading BokehJS ...</span>\n",
       "    </div>"
      ]
     },
     "metadata": {},
     "output_type": "display_data"
    },
    {
     "data": {
      "application/javascript": [
       "\n",
       "(function(root) {\n",
       "  function now() {\n",
       "    return new Date();\n",
       "  }\n",
       "\n",
       "  var force = true;\n",
       "\n",
       "  if (typeof (root._bokeh_onload_callbacks) === \"undefined\" || force === true) {\n",
       "    root._bokeh_onload_callbacks = [];\n",
       "    root._bokeh_is_loading = undefined;\n",
       "  }\n",
       "\n",
       "  var JS_MIME_TYPE = 'application/javascript';\n",
       "  var HTML_MIME_TYPE = 'text/html';\n",
       "  var EXEC_MIME_TYPE = 'application/vnd.bokehjs_exec.v0+json';\n",
       "  var CLASS_NAME = 'output_bokeh rendered_html';\n",
       "\n",
       "  /**\n",
       "   * Render data to the DOM node\n",
       "   */\n",
       "  function render(props, node) {\n",
       "    var script = document.createElement(\"script\");\n",
       "    node.appendChild(script);\n",
       "  }\n",
       "\n",
       "  /**\n",
       "   * Handle when an output is cleared or removed\n",
       "   */\n",
       "  function handleClearOutput(event, handle) {\n",
       "    var cell = handle.cell;\n",
       "\n",
       "    var id = cell.output_area._bokeh_element_id;\n",
       "    var server_id = cell.output_area._bokeh_server_id;\n",
       "    // Clean up Bokeh references\n",
       "    if (id !== undefined) {\n",
       "      Bokeh.index[id].model.document.clear();\n",
       "      delete Bokeh.index[id];\n",
       "    }\n",
       "\n",
       "    if (server_id !== undefined) {\n",
       "      // Clean up Bokeh references\n",
       "      var cmd = \"from bokeh.io.state import curstate; print(curstate().uuid_to_server['\" + server_id + \"'].get_sessions()[0].document.roots[0]._id)\";\n",
       "      cell.notebook.kernel.execute(cmd, {\n",
       "        iopub: {\n",
       "          output: function(msg) {\n",
       "            var element_id = msg.content.text.trim();\n",
       "            Bokeh.index[element_id].model.document.clear();\n",
       "            delete Bokeh.index[element_id];\n",
       "          }\n",
       "        }\n",
       "      });\n",
       "      // Destroy server and session\n",
       "      var cmd = \"import bokeh.io.notebook as ion; ion.destroy_server('\" + server_id + \"')\";\n",
       "      cell.notebook.kernel.execute(cmd);\n",
       "    }\n",
       "  }\n",
       "\n",
       "  /**\n",
       "   * Handle when a new output is added\n",
       "   */\n",
       "  function handleAddOutput(event, handle) {\n",
       "    var output_area = handle.output_area;\n",
       "    var output = handle.output;\n",
       "\n",
       "    // limit handleAddOutput to display_data with EXEC_MIME_TYPE content only\n",
       "    if ((output.output_type != \"display_data\") || (!output.data.hasOwnProperty(EXEC_MIME_TYPE))) {\n",
       "      return\n",
       "    }\n",
       "\n",
       "    var toinsert = output_area.element.find(`.${CLASS_NAME.split(' ')[0]}`);\n",
       "\n",
       "    if (output.metadata[EXEC_MIME_TYPE][\"id\"] !== undefined) {\n",
       "      toinsert[0].firstChild.textContent = output.data[JS_MIME_TYPE];\n",
       "      // store reference to embed id on output_area\n",
       "      output_area._bokeh_element_id = output.metadata[EXEC_MIME_TYPE][\"id\"];\n",
       "    }\n",
       "    if (output.metadata[EXEC_MIME_TYPE][\"server_id\"] !== undefined) {\n",
       "      var bk_div = document.createElement(\"div\");\n",
       "      bk_div.innerHTML = output.data[HTML_MIME_TYPE];\n",
       "      var script_attrs = bk_div.children[0].attributes;\n",
       "      for (var i = 0; i < script_attrs.length; i++) {\n",
       "        toinsert[0].firstChild.setAttribute(script_attrs[i].name, script_attrs[i].value);\n",
       "      }\n",
       "      // store reference to server id on output_area\n",
       "      output_area._bokeh_server_id = output.metadata[EXEC_MIME_TYPE][\"server_id\"];\n",
       "    }\n",
       "  }\n",
       "\n",
       "  function register_renderer(events, OutputArea) {\n",
       "\n",
       "    function append_mime(data, metadata, element) {\n",
       "      // create a DOM node to render to\n",
       "      var toinsert = this.create_output_subarea(\n",
       "        metadata,\n",
       "        CLASS_NAME,\n",
       "        EXEC_MIME_TYPE\n",
       "      );\n",
       "      this.keyboard_manager.register_events(toinsert);\n",
       "      // Render to node\n",
       "      var props = {data: data, metadata: metadata[EXEC_MIME_TYPE]};\n",
       "      render(props, toinsert[0]);\n",
       "      element.append(toinsert);\n",
       "      return toinsert\n",
       "    }\n",
       "\n",
       "    /* Handle when an output is cleared or removed */\n",
       "    events.on('clear_output.CodeCell', handleClearOutput);\n",
       "    events.on('delete.Cell', handleClearOutput);\n",
       "\n",
       "    /* Handle when a new output is added */\n",
       "    events.on('output_added.OutputArea', handleAddOutput);\n",
       "\n",
       "    /**\n",
       "     * Register the mime type and append_mime function with output_area\n",
       "     */\n",
       "    OutputArea.prototype.register_mime_type(EXEC_MIME_TYPE, append_mime, {\n",
       "      /* Is output safe? */\n",
       "      safe: true,\n",
       "      /* Index of renderer in `output_area.display_order` */\n",
       "      index: 0\n",
       "    });\n",
       "  }\n",
       "\n",
       "  // register the mime type if in Jupyter Notebook environment and previously unregistered\n",
       "  if (root.Jupyter !== undefined) {\n",
       "    var events = require('base/js/events');\n",
       "    var OutputArea = require('notebook/js/outputarea').OutputArea;\n",
       "\n",
       "    if (OutputArea.prototype.mime_types().indexOf(EXEC_MIME_TYPE) == -1) {\n",
       "      register_renderer(events, OutputArea);\n",
       "    }\n",
       "  }\n",
       "\n",
       "  \n",
       "  if (typeof (root._bokeh_timeout) === \"undefined\" || force === true) {\n",
       "    root._bokeh_timeout = Date.now() + 5000;\n",
       "    root._bokeh_failed_load = false;\n",
       "  }\n",
       "\n",
       "  var NB_LOAD_WARNING = {'data': {'text/html':\n",
       "     \"<div style='background-color: #fdd'>\\n\"+\n",
       "     \"<p>\\n\"+\n",
       "     \"BokehJS does not appear to have successfully loaded. If loading BokehJS from CDN, this \\n\"+\n",
       "     \"may be due to a slow or bad network connection. Possible fixes:\\n\"+\n",
       "     \"</p>\\n\"+\n",
       "     \"<ul>\\n\"+\n",
       "     \"<li>re-rerun `output_notebook()` to attempt to load from CDN again, or</li>\\n\"+\n",
       "     \"<li>use INLINE resources instead, as so:</li>\\n\"+\n",
       "     \"</ul>\\n\"+\n",
       "     \"<code>\\n\"+\n",
       "     \"from bokeh.resources import INLINE\\n\"+\n",
       "     \"output_notebook(resources=INLINE)\\n\"+\n",
       "     \"</code>\\n\"+\n",
       "     \"</div>\"}};\n",
       "\n",
       "  function display_loaded() {\n",
       "    var el = document.getElementById(\"80ed22db-adce-4024-acdf-17b9a815dafc\");\n",
       "    if (el != null) {\n",
       "      el.textContent = \"BokehJS is loading...\";\n",
       "    }\n",
       "    if (root.Bokeh !== undefined) {\n",
       "      if (el != null) {\n",
       "        el.textContent = \"BokehJS \" + root.Bokeh.version + \" successfully loaded.\";\n",
       "      }\n",
       "    } else if (Date.now() < root._bokeh_timeout) {\n",
       "      setTimeout(display_loaded, 100)\n",
       "    }\n",
       "  }\n",
       "\n",
       "\n",
       "  function run_callbacks() {\n",
       "    try {\n",
       "      root._bokeh_onload_callbacks.forEach(function(callback) { callback() });\n",
       "    }\n",
       "    finally {\n",
       "      delete root._bokeh_onload_callbacks\n",
       "    }\n",
       "    console.info(\"Bokeh: all callbacks have finished\");\n",
       "  }\n",
       "\n",
       "  function load_libs(js_urls, callback) {\n",
       "    root._bokeh_onload_callbacks.push(callback);\n",
       "    if (root._bokeh_is_loading > 0) {\n",
       "      console.log(\"Bokeh: BokehJS is being loaded, scheduling callback at\", now());\n",
       "      return null;\n",
       "    }\n",
       "    if (js_urls == null || js_urls.length === 0) {\n",
       "      run_callbacks();\n",
       "      return null;\n",
       "    }\n",
       "    console.log(\"Bokeh: BokehJS not loaded, scheduling load and callback at\", now());\n",
       "    root._bokeh_is_loading = js_urls.length;\n",
       "    for (var i = 0; i < js_urls.length; i++) {\n",
       "      var url = js_urls[i];\n",
       "      var s = document.createElement('script');\n",
       "      s.src = url;\n",
       "      s.async = false;\n",
       "      s.onreadystatechange = s.onload = function() {\n",
       "        root._bokeh_is_loading--;\n",
       "        if (root._bokeh_is_loading === 0) {\n",
       "          console.log(\"Bokeh: all BokehJS libraries loaded\");\n",
       "          run_callbacks()\n",
       "        }\n",
       "      };\n",
       "      s.onerror = function() {\n",
       "        console.warn(\"failed to load library \" + url);\n",
       "      };\n",
       "      console.log(\"Bokeh: injecting script tag for BokehJS library: \", url);\n",
       "      document.getElementsByTagName(\"head\")[0].appendChild(s);\n",
       "    }\n",
       "  };var element = document.getElementById(\"80ed22db-adce-4024-acdf-17b9a815dafc\");\n",
       "  if (element == null) {\n",
       "    console.log(\"Bokeh: ERROR: autoload.js configured with elementid '80ed22db-adce-4024-acdf-17b9a815dafc' but no matching script tag was found. \")\n",
       "    return false;\n",
       "  }\n",
       "\n",
       "  var js_urls = [\"https://cdn.pydata.org/bokeh/release/bokeh-0.12.10.min.js\", \"https://cdn.pydata.org/bokeh/release/bokeh-widgets-0.12.10.min.js\", \"https://cdn.pydata.org/bokeh/release/bokeh-tables-0.12.10.min.js\", \"https://cdn.pydata.org/bokeh/release/bokeh-gl-0.12.10.min.js\"];\n",
       "\n",
       "  var inline_js = [\n",
       "    function(Bokeh) {\n",
       "      Bokeh.set_log_level(\"info\");\n",
       "    },\n",
       "    \n",
       "    function(Bokeh) {\n",
       "      \n",
       "    },\n",
       "    function(Bokeh) {\n",
       "      console.log(\"Bokeh: injecting CSS: https://cdn.pydata.org/bokeh/release/bokeh-0.12.10.min.css\");\n",
       "      Bokeh.embed.inject_css(\"https://cdn.pydata.org/bokeh/release/bokeh-0.12.10.min.css\");\n",
       "      console.log(\"Bokeh: injecting CSS: https://cdn.pydata.org/bokeh/release/bokeh-widgets-0.12.10.min.css\");\n",
       "      Bokeh.embed.inject_css(\"https://cdn.pydata.org/bokeh/release/bokeh-widgets-0.12.10.min.css\");\n",
       "      console.log(\"Bokeh: injecting CSS: https://cdn.pydata.org/bokeh/release/bokeh-tables-0.12.10.min.css\");\n",
       "      Bokeh.embed.inject_css(\"https://cdn.pydata.org/bokeh/release/bokeh-tables-0.12.10.min.css\");\n",
       "    }\n",
       "  ];\n",
       "\n",
       "  function run_inline_js() {\n",
       "    \n",
       "    if ((root.Bokeh !== undefined) || (force === true)) {\n",
       "      for (var i = 0; i < inline_js.length; i++) {\n",
       "        inline_js[i].call(root, root.Bokeh);\n",
       "      }if (force === true) {\n",
       "        display_loaded();\n",
       "      }} else if (Date.now() < root._bokeh_timeout) {\n",
       "      setTimeout(run_inline_js, 100);\n",
       "    } else if (!root._bokeh_failed_load) {\n",
       "      console.log(\"Bokeh: BokehJS failed to load within specified timeout.\");\n",
       "      root._bokeh_failed_load = true;\n",
       "    } else if (force !== true) {\n",
       "      var cell = $(document.getElementById(\"80ed22db-adce-4024-acdf-17b9a815dafc\")).parents('.cell').data().cell;\n",
       "      cell.output_area.append_execute_result(NB_LOAD_WARNING)\n",
       "    }\n",
       "\n",
       "  }\n",
       "\n",
       "  if (root._bokeh_is_loading === 0) {\n",
       "    console.log(\"Bokeh: BokehJS loaded, going straight to plotting\");\n",
       "    run_inline_js();\n",
       "  } else {\n",
       "    load_libs(js_urls, function() {\n",
       "      console.log(\"Bokeh: BokehJS plotting callback run at\", now());\n",
       "      run_inline_js();\n",
       "    });\n",
       "  }\n",
       "}(window));"
      ],
      "application/vnd.bokehjs_load.v0+json": "\n(function(root) {\n  function now() {\n    return new Date();\n  }\n\n  var force = true;\n\n  if (typeof (root._bokeh_onload_callbacks) === \"undefined\" || force === true) {\n    root._bokeh_onload_callbacks = [];\n    root._bokeh_is_loading = undefined;\n  }\n\n  \n\n  \n  if (typeof (root._bokeh_timeout) === \"undefined\" || force === true) {\n    root._bokeh_timeout = Date.now() + 5000;\n    root._bokeh_failed_load = false;\n  }\n\n  var NB_LOAD_WARNING = {'data': {'text/html':\n     \"<div style='background-color: #fdd'>\\n\"+\n     \"<p>\\n\"+\n     \"BokehJS does not appear to have successfully loaded. If loading BokehJS from CDN, this \\n\"+\n     \"may be due to a slow or bad network connection. Possible fixes:\\n\"+\n     \"</p>\\n\"+\n     \"<ul>\\n\"+\n     \"<li>re-rerun `output_notebook()` to attempt to load from CDN again, or</li>\\n\"+\n     \"<li>use INLINE resources instead, as so:</li>\\n\"+\n     \"</ul>\\n\"+\n     \"<code>\\n\"+\n     \"from bokeh.resources import INLINE\\n\"+\n     \"output_notebook(resources=INLINE)\\n\"+\n     \"</code>\\n\"+\n     \"</div>\"}};\n\n  function display_loaded() {\n    var el = document.getElementById(\"80ed22db-adce-4024-acdf-17b9a815dafc\");\n    if (el != null) {\n      el.textContent = \"BokehJS is loading...\";\n    }\n    if (root.Bokeh !== undefined) {\n      if (el != null) {\n        el.textContent = \"BokehJS \" + root.Bokeh.version + \" successfully loaded.\";\n      }\n    } else if (Date.now() < root._bokeh_timeout) {\n      setTimeout(display_loaded, 100)\n    }\n  }\n\n\n  function run_callbacks() {\n    try {\n      root._bokeh_onload_callbacks.forEach(function(callback) { callback() });\n    }\n    finally {\n      delete root._bokeh_onload_callbacks\n    }\n    console.info(\"Bokeh: all callbacks have finished\");\n  }\n\n  function load_libs(js_urls, callback) {\n    root._bokeh_onload_callbacks.push(callback);\n    if (root._bokeh_is_loading > 0) {\n      console.log(\"Bokeh: BokehJS is being loaded, scheduling callback at\", now());\n      return null;\n    }\n    if (js_urls == null || js_urls.length === 0) {\n      run_callbacks();\n      return null;\n    }\n    console.log(\"Bokeh: BokehJS not loaded, scheduling load and callback at\", now());\n    root._bokeh_is_loading = js_urls.length;\n    for (var i = 0; i < js_urls.length; i++) {\n      var url = js_urls[i];\n      var s = document.createElement('script');\n      s.src = url;\n      s.async = false;\n      s.onreadystatechange = s.onload = function() {\n        root._bokeh_is_loading--;\n        if (root._bokeh_is_loading === 0) {\n          console.log(\"Bokeh: all BokehJS libraries loaded\");\n          run_callbacks()\n        }\n      };\n      s.onerror = function() {\n        console.warn(\"failed to load library \" + url);\n      };\n      console.log(\"Bokeh: injecting script tag for BokehJS library: \", url);\n      document.getElementsByTagName(\"head\")[0].appendChild(s);\n    }\n  };var element = document.getElementById(\"80ed22db-adce-4024-acdf-17b9a815dafc\");\n  if (element == null) {\n    console.log(\"Bokeh: ERROR: autoload.js configured with elementid '80ed22db-adce-4024-acdf-17b9a815dafc' but no matching script tag was found. \")\n    return false;\n  }\n\n  var js_urls = [\"https://cdn.pydata.org/bokeh/release/bokeh-0.12.10.min.js\", \"https://cdn.pydata.org/bokeh/release/bokeh-widgets-0.12.10.min.js\", \"https://cdn.pydata.org/bokeh/release/bokeh-tables-0.12.10.min.js\", \"https://cdn.pydata.org/bokeh/release/bokeh-gl-0.12.10.min.js\"];\n\n  var inline_js = [\n    function(Bokeh) {\n      Bokeh.set_log_level(\"info\");\n    },\n    \n    function(Bokeh) {\n      \n    },\n    function(Bokeh) {\n      console.log(\"Bokeh: injecting CSS: https://cdn.pydata.org/bokeh/release/bokeh-0.12.10.min.css\");\n      Bokeh.embed.inject_css(\"https://cdn.pydata.org/bokeh/release/bokeh-0.12.10.min.css\");\n      console.log(\"Bokeh: injecting CSS: https://cdn.pydata.org/bokeh/release/bokeh-widgets-0.12.10.min.css\");\n      Bokeh.embed.inject_css(\"https://cdn.pydata.org/bokeh/release/bokeh-widgets-0.12.10.min.css\");\n      console.log(\"Bokeh: injecting CSS: https://cdn.pydata.org/bokeh/release/bokeh-tables-0.12.10.min.css\");\n      Bokeh.embed.inject_css(\"https://cdn.pydata.org/bokeh/release/bokeh-tables-0.12.10.min.css\");\n    }\n  ];\n\n  function run_inline_js() {\n    \n    if ((root.Bokeh !== undefined) || (force === true)) {\n      for (var i = 0; i < inline_js.length; i++) {\n        inline_js[i].call(root, root.Bokeh);\n      }if (force === true) {\n        display_loaded();\n      }} else if (Date.now() < root._bokeh_timeout) {\n      setTimeout(run_inline_js, 100);\n    } else if (!root._bokeh_failed_load) {\n      console.log(\"Bokeh: BokehJS failed to load within specified timeout.\");\n      root._bokeh_failed_load = true;\n    } else if (force !== true) {\n      var cell = $(document.getElementById(\"80ed22db-adce-4024-acdf-17b9a815dafc\")).parents('.cell').data().cell;\n      cell.output_area.append_execute_result(NB_LOAD_WARNING)\n    }\n\n  }\n\n  if (root._bokeh_is_loading === 0) {\n    console.log(\"Bokeh: BokehJS loaded, going straight to plotting\");\n    run_inline_js();\n  } else {\n    load_libs(js_urls, function() {\n      console.log(\"Bokeh: BokehJS plotting callback run at\", now());\n      run_inline_js();\n    });\n  }\n}(window));"
     },
     "metadata": {},
     "output_type": "display_data"
    },
    {
     "name": "stderr",
     "output_type": "stream",
     "text": [
      "/anaconda/lib/python3.6/site-packages/sklearn/cross_validation.py:41: DeprecationWarning: This module was deprecated in version 0.18 in favor of the model_selection module into which all the refactored classes and functions are moved. Also note that the interface of the new CV iterators are different from that of this module. This module will be removed in 0.20.\n",
      "  \"This module will be removed in 0.20.\", DeprecationWarning)\n"
     ]
    }
   ],
   "source": [
    "# Import Pandas\n",
    "import pandas as pd\n",
    "\n",
    "# Import Numpy\n",
    "import numpy as np\n",
    "\n",
    "# Import scipy classes\n",
    "from scipy.stats import mode, multivariate_normal as mv_norm\n",
    "from scipy.sparse import issparse, csr_matrix\n",
    "\n",
    "# Import the package mnist from keras\n",
    "from keras.datasets import mnist\n",
    "\n",
    "# Import pyplot from matplotlib as plt\n",
    "import matplotlib.pyplot as plt\n",
    "%matplotlib inline\n",
    "\n",
    "# Import Seaborn\n",
    "import seaborn as sns\n",
    "\n",
    "# Import warnings\n",
    "import warnings \n",
    "warnings.filterwarnings('ignore')\n",
    "\n",
    "# Import timeit\n",
    "import timeit\n",
    "\n",
    "# Import Pathlib\n",
    "from pathlib import Path\n",
    "\n",
    "# Import Random Integer\n",
    "import random as rand\n",
    "\n",
    "# Import Pickle\n",
    "import _pickle as pickle\n",
    "\n",
    "# Import Bokeh\n",
    "import bokeh\n",
    "from bokeh.plotting import figure, output_file, show\n",
    "from bokeh.palettes import d3\n",
    "from bokeh.io import output_notebook\n",
    "from bokeh.models import Legend\n",
    "output_notebook()\n",
    "\n",
    "# Import Sklearn\n",
    "from sklearn.metrics import confusion_matrix, accuracy_score\n",
    "from sklearn.metrics.pairwise import check_pairwise_arrays\n",
    "from sklearn.neighbors import KNeighborsClassifier\n",
    "from sklearn.cross_validation import KFold\n",
    "from sklearn.preprocessing import OneHotEncoder"
   ]
  },
  {
   "cell_type": "markdown",
   "metadata": {},
   "source": [
    "Download the MNIST data set from http://yann.lecun.com/exdb/mnist/ Links to an external site.. There is a training data set and a test data set. Each image is 28x28 pixels."
   ]
  },
  {
   "cell_type": "markdown",
   "metadata": {},
   "source": [
    "## About the MNIST Dataset"
   ]
  },
  {
   "cell_type": "markdown",
   "metadata": {},
   "source": [
    "Before we get head on into the dataset, models and all those lets first understand what the data is all about. MNIST is a whole bunch of images of handwritten digits that is considered to be one of the best dataset that used as a starter to learn about deep learning and computer vision. It is a good dataset for people because they probabaly don't have much do with data preprocessing and formatting.\n",
    "\n",
    "The dataset consists of 60000 training images and 10000 testing images of handwritten digits for buliding our models. This  The MNIST dataset by default is available in keras package. Lets just download the data."
   ]
  },
  {
   "cell_type": "markdown",
   "metadata": {},
   "source": [
    "As we have already worked on this dataset for "
   ]
  },
  {
   "cell_type": "markdown",
   "metadata": {},
   "source": [
    "## Loading the data"
   ]
  },
  {
   "cell_type": "code",
   "execution_count": 2,
   "metadata": {
    "collapsed": true
   },
   "outputs": [],
   "source": [
    "# Load pre-shuffled MNIST data into train and test sets\n",
    "(trainX, trainY), (testX, testY) = mnist.load_data()"
   ]
  },
  {
   "cell_type": "markdown",
   "metadata": {},
   "source": [
    "Let's confirm that we have the images intact by printing out the first image. In python, images are printed out using the package called matplotlib. So we will first import it and then using it we will print it out."
   ]
  },
  {
   "cell_type": "code",
   "execution_count": 3,
   "metadata": {},
   "outputs": [
    {
     "data": {
      "image/png": "[encoded data removed]",
      "text/plain": [
       "<matplotlib.figure.Figure at 0x10e2921d0>"
      ]
     },
     "metadata": {},
     "output_type": "display_data"
    },
    {
     "data": {
      "image/png": "[encoded data removed]",
      "text/plain": [
       "<matplotlib.figure.Figure at 0x1c22262518>"
      ]
     },
     "metadata": {},
     "output_type": "display_data"
    },
    {
     "data": {
      "image/png": "[encoded data removed]",
      "text/plain": [
       "<matplotlib.figure.Figure at 0x1c2acf3358>"
      ]
     },
     "metadata": {},
     "output_type": "display_data"
    }
   ],
   "source": [
    "# Print the first three images in the training set\n",
    "for i in range(3):\n",
    "    plt.imshow(trainX[i])\n",
    "    plt.show()"
   ]
  },
  {
   "cell_type": "markdown",
   "metadata": {},
   "source": [
    "We have the number 5 as first image in the training set. We are sure that we have our data in tact.\n",
    "\n",
    "It is always helpful when you are working with computer vision problem to plot the data before doing any algorithm work. It's a quick sanity check that can prevent easily avoidable mistakes such as misinterpreting the data dimensions."
   ]
  },
  {
   "cell_type": "markdown",
   "metadata": {},
   "source": [
    "## Preprocessing"
   ]
  },
  {
   "cell_type": "markdown",
   "metadata": {},
   "source": [
    "Since that we have loaded the dataset lets have a look at the shape of the dataset that say how many images we have in our data."
   ]
  },
  {
   "cell_type": "code",
   "execution_count": 4,
   "metadata": {},
   "outputs": [
    {
     "name": "stdout",
     "output_type": "stream",
     "text": [
      "(60000, 28, 28)\n",
      "(10000, 28, 28)\n"
     ]
    }
   ],
   "source": [
    "# Shape of the Image feature/pixel value\n",
    "print(trainX.shape)\n",
    "print(testX.shape)"
   ]
  },
  {
   "cell_type": "markdown",
   "metadata": {},
   "source": [
    "So it's appear that there are 60,000 sample of images in the training set and 10000 images on the test set. Each and every images are of size 28*28 pixels.\n",
    "\n",
    "But we have a problem here. Having the images as array shape that representing the image pixel ie) (No of images, height, width) is not going to help us for the the Machine Learning alogithum feature representation. We need to reshape it in to the following format.\n",
    "\n",
    "(No of images, width * height)\n",
    "\n",
    "Lets do that."
   ]
  },
  {
   "cell_type": "code",
   "execution_count": 5,
   "metadata": {},
   "outputs": [
    {
     "name": "stdout",
     "output_type": "stream",
     "text": [
      "(60000, 784)\n",
      "(10000, 784)\n"
     ]
    }
   ],
   "source": [
    "# Reshaping the image feature\n",
    "X_train = trainX.reshape(trainX.shape[0], trainX.shape[1] * trainX.shape[1])\n",
    "X_test = testX.reshape(testX.shape[0], testX.shape[1] * testX.shape[1])\n",
    "\n",
    "# Verifying the reshaping \n",
    "print(X_train.shape)\n",
    "print(X_test.shape)"
   ]
  },
  {
   "cell_type": "markdown",
   "metadata": {},
   "source": [
    "Thus we have reshaped the image properly. Just to be sure that we didn't loose any information while doing the reshaping. Let revert one of the image to old shape and try to print the image and see whether we are able to see it or not."
   ]
  },
  {
   "cell_type": "code",
   "execution_count": 6,
   "metadata": {},
   "outputs": [
    {
     "data": {
      "image/png": "[encoded data removed]",
      "text/plain": [
       "<matplotlib.figure.Figure at 0x1c2ad67e10>"
      ]
     },
     "metadata": {},
     "output_type": "display_data"
    },
    {
     "data": {
      "image/png": "[encoded data removed]",
      "text/plain": [
       "<matplotlib.figure.Figure at 0x1c2aeb0ac8>"
      ]
     },
     "metadata": {},
     "output_type": "display_data"
    },
    {
     "data": {
      "image/png": "[encoded data removed]",
      "text/plain": [
       "<matplotlib.figure.Figure at 0x1c2afa6908>"
      ]
     },
     "metadata": {},
     "output_type": "display_data"
    }
   ],
   "source": [
    "# Plot the first image in the train set\n",
    "for i in range(3):\n",
    "    plt.imshow(X_train[i].reshape(28, 28))\n",
    "    plt.show()"
   ]
  },
  {
   "cell_type": "markdown",
   "metadata": {},
   "source": [
    "Thus it proves that we have converted our X feature vectors of train and test properely.\n",
    "\n",
    "Now that being done. Let us move our focus over to the labels for images which says what the number in the image is by checking the shape of the numpy array."
   ]
  },
  {
   "cell_type": "code",
   "execution_count": 7,
   "metadata": {},
   "outputs": [
    {
     "name": "stdout",
     "output_type": "stream",
     "text": [
      "(60000,)\n",
      "(10000,)\n"
     ]
    }
   ],
   "source": [
    "# Print the shape of the array that contains the image labels\n",
    "print(trainY.shape)\n",
    "print(testY.shape)"
   ]
  },
  {
   "cell_type": "markdown",
   "metadata": {},
   "source": [
    "We will reshape the label arrays to shape (length of labels, 1) in order to have ease access while doing computation in the algorithm."
   ]
  },
  {
   "cell_type": "code",
   "execution_count": 8,
   "metadata": {},
   "outputs": [
    {
     "name": "stdout",
     "output_type": "stream",
     "text": [
      "(60000, 1)\n",
      "(10000, 1)\n"
     ]
    }
   ],
   "source": [
    "# Reshape the label array\n",
    "y_train = trainY.reshape(len(trainY), 1)\n",
    "y_test = testY.reshape(len(testY), 1)\n",
    "\n",
    "# Check the shape of reshaped label\n",
    "print(y_train.shape)\n",
    "print(y_test.shape)"
   ]
  },
  {
   "cell_type": "markdown",
   "metadata": {
    "collapsed": true
   },
   "source": [
    "As the data processing needed for is completed let's dive into the questions."
   ]
  },
  {
   "cell_type": "markdown",
   "metadata": {},
   "source": [
    "## Part 1"
   ]
  },
  {
   "cell_type": "markdown",
   "metadata": {},
   "source": [
    "(40 points) Build a Naive Bayes classifier for the the MNIST data set and test it on the test data set. Provide a confusion matrix, accuracy for each digit, and overall accuracy. Comment on your results. \n",
    "\n",
    "Assume that the probability model for each pixel is Gaussian and that the probability of each class—i.e., digit—is equal. That is, P(c = 0) = P(c = 1) = : : : = P(c = 9). Let x = (x1; x2; : : : ; x784) be the vector of pixel values for a given image and c is the class or digit, 0 to 9. Hence,\n",
    "\n",
    "<img src=\"https://raw.githubusercontent.com/nishanthgandhidoss/nishanthgandhidoss.github.io/master/image/Naive%20bayes%20formula.png\" alt=\"Naive bayes Formula\" align=\"center\" height=\"400\" width=\"400\"/>\n",
    "\n",
    "where P(xi|c) = N(\u0016i; \u001bijc) is modeled as a Gaussian from the training data. Train your Naive Bayes classifier and apply it to the test data set. For each of the 10 classes, show an image of the 784 conditional probabilities as a 28 \u0002 28 image. That is, show an image of P(xijc = 1), i = 1; 2; : : : ; 784 as a 28 \u0002 28 image, repeat for c = 2, etc. Do these images provide any insight into how this classifier works?"
   ]
  },
  {
   "cell_type": "markdown",
   "metadata": {},
   "source": [
    "First of all in order to handle the code neat and to provide reusablity of the code, I have coded all the logic for required for the Classfiers and all the processing to be as a seperate object oriendted class objects. First up I bulid the Utils class which consists of plot for the analysis of the model, finding out testing errors, accuracy of model etc."
   ]
  },
  {
   "cell_type": "markdown",
   "metadata": {},
   "source": [
    "## Utills Class"
   ]
  },
  {
   "cell_type": "code",
   "execution_count": 9,
   "metadata": {
    "collapsed": true
   },
   "outputs": [],
   "source": [
    "class Utills(object):\n",
    "    \"\"\" Helps to convert and work with required tasks\n",
    "    \n",
    "    Perform Data processing task such to transform the feature with \n",
    "    z-score normalization, one hot encoding of the label for logistic\n",
    "    multi class regression. You can create the plot, tables for \n",
    "    the results representation\n",
    "    \"\"\"\n",
    "    \n",
    "    def __init__(self):\n",
    "        \"\"\"Variable Initialization\n",
    "        \n",
    "        Initialize the class variables which can be accessed using \n",
    "        the self or class objects\n",
    "        \n",
    "        Arguments:\n",
    "            None\n",
    "            \n",
    "        Returns:\n",
    "             None\n",
    "        \"\"\"\n",
    "        pass\n",
    "    \n",
    "    def z_score_norm(self, data):\n",
    "        \"\"\" Normalize the data using z-score\n",
    "        \n",
    "        Normalize the data which is mostly a pandas dataframe and \n",
    "        outputs normalized dataframe of the same using z-score \n",
    "        normalization.https://en.wikipedia.org/wiki/Standard_score\n",
    "        \n",
    "        Arguments:\n",
    "            data: Pandas Dataframe to be normalized\n",
    "            \n",
    "        Returns:\n",
    "            Normalized Pandas Dataframe\n",
    "        \"\"\"\n",
    "        # Finding the z-score using mean and standard deviation of each column\n",
    "        # Broadcasting is applied over the data\n",
    "        normalized_df = (data - data.mean()) / data.std()\n",
    "        return pd.DataFrame(normalized_df)\n",
    "    \n",
    "    def onehot_encoder(self, data):\n",
    "        \"\"\" Convert the catergorical feature to binary\n",
    "        \n",
    "        Create the data labels in the binary forms of 1s and 0s\n",
    "        from the categorical feature.\n",
    "        \n",
    "        Arguments:\n",
    "            data: Categorical data to convert to binary \n",
    "            \n",
    "        Returns:\n",
    "            encoded: Converted data in the form of binary\n",
    "        \"\"\"\n",
    "        # Compute the one hot for the variable\n",
    "        encoded = OneHotEncoder(sparse=False).fit_transform(data.reshape(len(data), 1))\n",
    "        return encoded\n",
    "\n",
    "    def k_fold(self, data, k = 5, seed = 1):\n",
    "        \"\"\" Create K folds of the data\n",
    "        \n",
    "        Data is split into K number of chunks depending on the k argument of \n",
    "        the function that can be used up for the cross validation purpose.\n",
    "        \n",
    "        Arguments:\n",
    "            data: Pandas Dataframe to be split into K Folds\n",
    "            k: Number of folds. Default to 5\n",
    "            \n",
    "        Returns:\n",
    "            index: Row index for each train and test set of the folds\n",
    "        \"\"\"\n",
    "        # Creating K-Fold cross validation index.\n",
    "        index = KFold(len(data), n_folds = k, random_state = seed)\n",
    "        return index\n",
    "    \n",
    "    def accuracy(self, actual, pred, normalize = False):\n",
    "        \"\"\" Compute the model accuracy\n",
    "        \n",
    "        Check for the normalization on the predicted value and \n",
    "        compute the model accuracy accordingly\n",
    "        \n",
    "        Arguments:\n",
    "            actual: Original labels\n",
    "            pred: Predicted labels\n",
    "            normalize: Default is False. Whether the pred argument is \n",
    "                normalized or not\n",
    "                \n",
    "        Returns:\n",
    "            acc: accuracy percentage of the model rounded of to 4 decimal\n",
    "                points\n",
    "        \"\"\"\n",
    "        # Intialize the accuracy\n",
    "        acc = 0.\n",
    "        # Normality check and finding the accuracy\n",
    "        if normalize == True:\n",
    "            acc = accuracy_score(actual, pred, normalize)\n",
    "        else:\n",
    "            acc = accuracy_score(actual, pred)\n",
    "        return round(acc, 6) * 100\n",
    "    \n",
    "    def confusion_matrix_plot(self, actual, pred, title = \"Confusion Matrix\", height = 9, width = 12):\n",
    "        \"\"\" Heatmap used to represent Confusion Matrix\n",
    "        \n",
    "        Takes actual and predicted value of the KNN algorithm to plot\n",
    "        the Confusion matrix in the form heatmap using bokeh\n",
    "        \n",
    "        Arguments:\n",
    "            actual: Original labels\n",
    "            pred: Predicted labels\n",
    "            title: Title for the plot\n",
    "            height: Height for the plot\n",
    "            width: Width for the plot\n",
    "        \n",
    "        Returns:\n",
    "            None\n",
    "        \"\"\"\n",
    "        # Get the confusion matrix\n",
    "        conf_mat = confusion_matrix(actual, pred)\n",
    "        # Frame the pandas dataframe\n",
    "        df = pd.DataFrame(conf_mat, index = [i for i in np.unique(actual)], columns = [i for i in np.unique(actual)])\n",
    "        # Create the heatmap\n",
    "        plt.figure(figsize = (width, height))\n",
    "        ax = sns.heatmap(df, annot=True, annot_kws={\"size\": 18}, fmt = \"d\", cmap = sns.cubehelix_palette())\n",
    "        # Customize the style of the heatmap\n",
    "        # Set the title, it's font size and position\n",
    "        ax.axes.set_title(title, fontsize = 30)\n",
    "        ax.title.set_position([.5, 1.03])\n",
    "        # Set X and Y labels and it font size\n",
    "        ax.set_xlabel(\"Predicted\", fontsize = 25)\n",
    "        ax.set_ylabel(\"Actual\", fontsize = 25)\n",
    "        # Set the X and Y tick labels and font size\n",
    "        ax.set_xticklabels(labels = [i for i in np.unique(y_test)], fontsize = 15)\n",
    "        ax.set_yticklabels(labels = [i for i in np.unique(y_test)], fontsize = 15)\n",
    "        # Show the plot\n",
    "        plt.show()\n",
    "        \n",
    "    def testing_error(self, actual, pred):\n",
    "        \"\"\" Testing Error for each labels\n",
    "        \n",
    "        Compute the testing error (also accuracy) for each and every \n",
    "        labels in the testing set\n",
    "        \n",
    "        Arguments:\n",
    "            actual: Original labels\n",
    "            pred: Predicted labels\n",
    "            \n",
    "        Returns:\n",
    "            result_df: Dataframe of labels and its acuracy and error\n",
    "        \"\"\"\n",
    "        error_list = []\n",
    "        labels = list(np.unique(actual))\n",
    "        for i in labels:\n",
    "            index, _ = np.where(actual == i)\n",
    "            correct = (actual[index] == pred[index]).reshape(len(index), )\n",
    "            error = round((1 - (np.sum(correct) / len(index))) * 100, 4)\n",
    "            error_list.append(error)\n",
    "        result_df = pd.DataFrame({\"Label\": labels, \"Error (%)\": error_list, \n",
    "                                  \"Accuracy (%)\": [(100 - error) for error in error_list]})\n",
    "        return result_df\n",
    "    \n",
    "    def custom_analysis_line_plot(self, data, x_col, y_col, title, width = 800, height = 600, xlab = \"X-axis\", \n",
    "                                  ylab = \"Y-axis\", line_width = 4):\n",
    "        \"\"\" Plot a single line plot \n",
    "        \n",
    "        Create a cutome styled line plot by select the axis using the \n",
    "        specified column index of the data\n",
    "        \n",
    "        Arguments:\n",
    "            data: Pandas dataframe to make the plots\n",
    "            x_col: column number for the x-axis from the dataframe\n",
    "            y_col: column number for the y-axis from the dataframe\n",
    "            title: Title of the plot\n",
    "            width: Default is 800. Width of the plot\n",
    "            height:Default is 600. Height of the plot\n",
    "            xlab: X-axis label of the plot. Default is \"X-axis\"\n",
    "            ylab: Y-axis label of the plot. Default is \"Y-axis\"\n",
    "            line_width: Width of the line in the plot. Default is 4\n",
    "            \n",
    "        Returns:\n",
    "            p: Plot the graph on the screen\n",
    "        \"\"\"\n",
    "        # Creating the variables for the color prop\n",
    "        color = d3['Category20b'][17][2]\n",
    "        # Create the figure object\n",
    "        p = figure(width = width, height = height, title = title, x_axis_label = xlab, y_axis_label = ylab)\n",
    "        # Provide the attribute for the line()\n",
    "        p.line(data.iloc[:, x_col], data.iloc[:, y_col], color = color, line_width = line_width)\n",
    "        # Add plot style attributes\n",
    "        p.title.text_font_size = \"20pt\"\n",
    "        p.title.align = \"center\"\n",
    "        p.xaxis.axis_label_text_font_size = \"20pt\"\n",
    "        p.yaxis.axis_label_text_font_size = \"20pt\"\n",
    "        return show(p)"
   ]
  },
  {
   "cell_type": "markdown",
   "metadata": {},
   "source": [
    "## Naive Bayes Class"
   ]
  },
  {
   "cell_type": "code",
   "execution_count": 10,
   "metadata": {
    "collapsed": true
   },
   "outputs": [],
   "source": [
    "class NaiveBayes(object):\n",
    "    \"\"\" Create a Naive Bayes Classifier using the Gaussian of the features\n",
    "    of each class and make prediction on the class, probablities of the \n",
    "    prediction, compute the class conditional proablities and make the plot\n",
    "    of the conditional probabilities\n",
    "    \n",
    "    Arguments:\n",
    "        None\n",
    "        \n",
    "    Returns:\n",
    "         None\n",
    "    \"\"\"\n",
    "    \n",
    "    def __init__(self):\n",
    "        \"\"\"Variable Initialization\n",
    "        \n",
    "        Initialize the class variables which can be accessed using \n",
    "        the self or class objects\n",
    "        \n",
    "        Arguments:\n",
    "            None\n",
    "            \n",
    "        Returns:\n",
    "            None\n",
    "        \"\"\"\n",
    "        pass\n",
    "    \n",
    "    def fit(self, X, y, smoothing = 1e4):\n",
    "        \"\"\" Fit a Naive Bayes model\n",
    "        \n",
    "        Fits the Naive Bayes models by computing and storing the gaussian \n",
    "        of each feature for the class and class priors\n",
    "        \n",
    "        Arguments:\n",
    "            X: Feature vector \n",
    "            y: Class Labels\n",
    "            smoothing: Default is 1e4(float). Smooths the gaussian by adding \n",
    "                a noise to each gaussian to avoid zero variance\n",
    "                \n",
    "        Returns:\n",
    "            None\n",
    "        \"\"\"\n",
    "        # Reshape the labels\n",
    "        y = y.reshape(len(y), )\n",
    "        # Intialize the gaussians, priors, labels\n",
    "        self.gaussians = dict()\n",
    "        self.priors = dict()\n",
    "        labels = set(y)\n",
    "        # Loop through each label to compute the mean and variance with added variance\n",
    "        for c in labels:\n",
    "            current_x = X[y == c]\n",
    "            self.gaussians[c] = {\n",
    "                'mean': current_x.mean(axis=0),\n",
    "                'var': current_x.var(axis=0) + smoothing,\n",
    "            }\n",
    "            # Calculate the priors\n",
    "            self.priors[c] = float(len(y[y == c])) / len(y)\n",
    "\n",
    "    def predict(self, X):\n",
    "        \"\"\" Predicts the class label\n",
    "        \n",
    "        Make Prdiction for the data feature using the trained gaussian\n",
    "        mean and variance of the training features\n",
    "        \n",
    "        Arguments:\n",
    "            X: Data for which you have to make the class prediction\n",
    "            \n",
    "        Returns:\n",
    "            pred: Predicted class label\n",
    "        \"\"\"\n",
    "        # Get the shape of the feature\n",
    "        N, D = X.shape\n",
    "        # Get the Gaussian length\n",
    "        K = len(self.gaussians)\n",
    "        P = np.zeros((N, K))\n",
    "        # Loop through the features to compute the predictions\n",
    "        # by getting the mean and variance\n",
    "        for c, g in self.gaussians.items():\n",
    "            mean, var = g['mean'], g['var']\n",
    "            P[:,c] = mv_norm.logpdf(X, mean=mean, cov=var) + np.log(self.priors[c])\n",
    "            pred = np.argmax(P, axis=1)\n",
    "        return pred.reshape(len(pred), 1)\n",
    "    \n",
    "    def predict_prob(self, X):\n",
    "        \"\"\" Compute the class probabilites\n",
    "        \n",
    "        Make the prediction using the features and outputs the probabilities\n",
    "        \n",
    "        Arguments:\n",
    "            X: Data for which you have to make the class prediction\n",
    "            \n",
    "        Returns:\n",
    "            prob: Predicted class probablities\n",
    "        \"\"\"\n",
    "        # Get the shape of the feature\n",
    "        N, D = X.shape\n",
    "        # Get the Gaussian length\n",
    "        K = len(self.gaussians)\n",
    "        P = np.zeros((N, K))\n",
    "        # Loop through the features to compute the predicted class\n",
    "        # probablities by getting the mean and variance\n",
    "        for c, g in self.gaussians.items():\n",
    "            mean, var = g['mean'], g['var']\n",
    "            P[:,c] = mv_norm.logpdf(X, mean=mean, cov=var) + np.log(self.priors[c])\n",
    "            prob = np.max(P, axis=1)\n",
    "        return prob.reshape(len(prob), 1)\n",
    "    \n",
    "    def conditional_prob(self, X, label):\n",
    "        \"\"\" Compute the Conditional Probablities\n",
    "        \n",
    "        Using the mean, variance and priors of the class for computing \n",
    "        the conditional probabilities for a specific label\n",
    "        \n",
    "        Arguments:\n",
    "            X: Data to compute the conditonal probabilities\n",
    "            label: Label for which the condtional probablity needs to be \n",
    "                caluculated\n",
    "                \n",
    "        Returns:\n",
    "            prob: Conditoonal probablity\n",
    "        \"\"\"\n",
    "        # Get the number of datapoints\n",
    "        N = X.shape[0]\n",
    "        # Get the mean and variance\n",
    "        mean = self.gaussians[label]['mean']\n",
    "        var = self.gaussians[label]['var']\n",
    "        # Compute the priors probablities\n",
    "        priors = self.priors[label]\n",
    "        # Derive the probablity\n",
    "        prob = ((X - mean) / var + priors).reshape(int(N ** (1/2.0)), int(N ** (1/2.0)))\n",
    "        return prob\n",
    "    \n",
    "    def conditional_prob_plot(self, X, actual, pred, label, width = 15, height = 5):\n",
    "        \"\"\" Create the image plot with the conditional probabilities\n",
    "        \n",
    "        Compute the condtional probablities and transform the probabilty \n",
    "        values into image plot using the styling attributes passed as a\n",
    "        arguments\n",
    "        \n",
    "        Arguments:\n",
    "            X: Data features\n",
    "            actual: actual label of the data\n",
    "            pred: predcited label of the data\n",
    "            label: Digit to predict\n",
    "            width: Width for the plot\n",
    "            height: Height for the plot\n",
    "        \n",
    "        Returns:\n",
    "            None\n",
    "        \"\"\"\n",
    "        # Create a dataframe of the acutal and predicted labels\n",
    "        df = pd.DataFrame(data = {'Actual': actual.reshape(len(actual), ), 'Pred': pred.reshape(len(actual), )})\n",
    "        # Find the correct and wrong index\n",
    "        correct_index = df[(df['Actual'] == label) & (df['Pred'] == label)].index\n",
    "        wrong_index = df[(df['Actual'] == label) & (df['Pred'] != label)].index\n",
    "        # Setting seed for random integer selection\n",
    "        rand.seed(123)\n",
    "        # Get the correct and wrong labels\n",
    "        correct = correct_index[rand.randint(0, len(correct_index))]\n",
    "        wrong = wrong_index[rand.randint(0, len(wrong_index))]\n",
    "        # Compute the conditional probabilites for three conditions \n",
    "        # of the correct and wrong labels\n",
    "        prob_1 = self.conditional_prob(X[correct], int(actual[correct]))\n",
    "        prob_2 = self.conditional_prob(X[wrong], int(actual[correct]))\n",
    "        prob_3 = self.conditional_prob(X[wrong], int(pred[wrong]))\n",
    "        # Concatenate the all three probabilities\n",
    "        plot = np.concatenate((prob_1, prob_2, prob_3), axis=1)\n",
    "        # Create and show the plot\n",
    "        plt.figure(figsize = (width, height))\n",
    "        plt.imshow(plot)"
   ]
  },
  {
   "cell_type": "markdown",
   "metadata": {},
   "source": [
    "As we have the class lets use them to compute the overall acuracy by fitting and predicting with the model."
   ]
  },
  {
   "cell_type": "markdown",
   "metadata": {},
   "source": [
    "## Overall Accuracy"
   ]
  },
  {
   "cell_type": "code",
   "execution_count": 11,
   "metadata": {},
   "outputs": [
    {
     "name": "stdout",
     "output_type": "stream",
     "text": [
      "Test accuracy: 75.98 percentage\n",
      "Run time: 0.04 Minutes\n"
     ]
    }
   ],
   "source": [
    "# Store the starting time for query time computation\n",
    "start_time = timeit.default_timer()\n",
    "\n",
    "# Create the class instances\n",
    "nb_model = NaiveBayes()\n",
    "utills = Utills()\n",
    "\n",
    "# Fit the model with training data\n",
    "nb_model.fit(X_train, y_train)\n",
    "\n",
    "# Make the prediction on the test set\n",
    "pred = nb_model.predict(X_test)\n",
    "\n",
    "# Compute and print the accuracy\n",
    "print (\"Test accuracy:\", utills.accuracy(y_test, pred), \"percentage\")\n",
    "\n",
    "# Print the Query time\n",
    "print(\"Run time:\", round((timeit.default_timer() - start_time) / 60, 2), \"Minutes\")"
   ]
  },
  {
   "cell_type": "markdown",
   "metadata": {},
   "source": [
    "Thus the above model of Naive Bayes is giving the test accuracy of 75.98 percentage which is quite good thinking on the how naive is naive bayes model. Lets view little deep inside the test set accuracy using the confusion matrix."
   ]
  },
  {
   "cell_type": "markdown",
   "metadata": {},
   "source": [
    "## Confusion Matrix"
   ]
  },
  {
   "cell_type": "code",
   "execution_count": 12,
   "metadata": {},
   "outputs": [
    {
     "data": {
      "image/png": "[encoded data removed]",
      "text/plain": [
       "<matplotlib.figure.Figure at 0x1c2afbf240>"
      ]
     },
     "metadata": {},
     "output_type": "display_data"
    }
   ],
   "source": [
    "# Plotting the confusion Matrix\n",
    "utills.confusion_matrix_plot(y_test, pred)"
   ]
  },
  {
   "cell_type": "markdown",
   "metadata": {},
   "source": [
    "From the confusion matrix, we can infer that the model has the ability to identify digit \"1\" on a ease compared to other digit. However one thing to recall here is that even when we are using KNN on this clssification of the dataset, it was also able to identify \"1\" without much trouble. Moving on, this is having slight problems with identifying \"2\" and \"4\" where it identifies as \"1\" and \"9\" correspondingly. It is struggling in identifying 5 as it has the lower diagonal count. But we can be sure about it as it is not the accuracy. So lets try to answer this question by using identifying the testing errors on each digits seperately."
   ]
  },
  {
   "cell_type": "markdown",
   "metadata": {
    "collapsed": true
   },
   "source": [
    "## Accuracy on each digit\n",
    "\n",
    "It is quite obvious that confusion matrix cannot provide you with accurate information on each set accuracy although it provides some pattern. Let see what is accuracy and error on each digits below."
   ]
  },
  {
   "cell_type": "code",
   "execution_count": 74,
   "metadata": {},
   "outputs": [
    {
     "data": {
      "text/html": [
       "<div>\n",
       "<style>\n",
       "    .dataframe thead tr:only-child th {\n",
       "        text-align: right;\n",
       "    }\n",
       "\n",
       "    .dataframe thead th {\n",
       "        text-align: left;\n",
       "    }\n",
       "\n",
       "    .dataframe tbody tr th {\n",
       "        vertical-align: top;\n",
       "    }\n",
       "</style>\n",
       "<table border=\"1\" class=\"dataframe\">\n",
       "  <thead>\n",
       "    <tr style=\"text-align: right;\">\n",
       "      <th></th>\n",
       "      <th>Accuracy (%)</th>\n",
       "      <th>Error (%)</th>\n",
       "      <th>Label</th>\n",
       "    </tr>\n",
       "  </thead>\n",
       "  <tbody>\n",
       "    <tr>\n",
       "      <th>0</th>\n",
       "      <td>88.9796</td>\n",
       "      <td>11.0204</td>\n",
       "      <td>0</td>\n",
       "    </tr>\n",
       "    <tr>\n",
       "      <th>1</th>\n",
       "      <td>99.2952</td>\n",
       "      <td>0.7048</td>\n",
       "      <td>1</td>\n",
       "    </tr>\n",
       "    <tr>\n",
       "      <th>2</th>\n",
       "      <td>59.2054</td>\n",
       "      <td>40.7946</td>\n",
       "      <td>2</td>\n",
       "    </tr>\n",
       "    <tr>\n",
       "      <th>3</th>\n",
       "      <td>75.2475</td>\n",
       "      <td>24.7525</td>\n",
       "      <td>3</td>\n",
       "    </tr>\n",
       "    <tr>\n",
       "      <th>4</th>\n",
       "      <td>67.1079</td>\n",
       "      <td>32.8921</td>\n",
       "      <td>4</td>\n",
       "    </tr>\n",
       "    <tr>\n",
       "      <th>5</th>\n",
       "      <td>48.6547</td>\n",
       "      <td>51.3453</td>\n",
       "      <td>5</td>\n",
       "    </tr>\n",
       "    <tr>\n",
       "      <th>6</th>\n",
       "      <td>86.6388</td>\n",
       "      <td>13.3612</td>\n",
       "      <td>6</td>\n",
       "    </tr>\n",
       "    <tr>\n",
       "      <th>7</th>\n",
       "      <td>80.9339</td>\n",
       "      <td>19.0661</td>\n",
       "      <td>7</td>\n",
       "    </tr>\n",
       "    <tr>\n",
       "      <th>8</th>\n",
       "      <td>62.0123</td>\n",
       "      <td>37.9877</td>\n",
       "      <td>8</td>\n",
       "    </tr>\n",
       "    <tr>\n",
       "      <th>9</th>\n",
       "      <td>86.1249</td>\n",
       "      <td>13.8751</td>\n",
       "      <td>9</td>\n",
       "    </tr>\n",
       "  </tbody>\n",
       "</table>\n",
       "</div>"
      ],
      "text/plain": [
       "   Accuracy (%)  Error (%)  Label\n",
       "0       88.9796    11.0204      0\n",
       "1       99.2952     0.7048      1\n",
       "2       59.2054    40.7946      2\n",
       "3       75.2475    24.7525      3\n",
       "4       67.1079    32.8921      4\n",
       "5       48.6547    51.3453      5\n",
       "6       86.6388    13.3612      6\n",
       "7       80.9339    19.0661      7\n",
       "8       62.0123    37.9877      8\n",
       "9       86.1249    13.8751      9"
      ]
     },
     "execution_count": 74,
     "metadata": {},
     "output_type": "execute_result"
    }
   ],
   "source": [
    "result_nb = utills.testing_error(y_test, pred)\n",
    "result_nb"
   ]
  },
  {
   "cell_type": "code",
   "execution_count": 97,
   "metadata": {},
   "outputs": [
    {
     "data": {
      "text/html": [
       "\n",
       "<div class=\"bk-root\">\n",
       "    <div class=\"bk-plotdiv\" id=\"e966f911-cabc-49d7-8202-5e956df351f2\"></div>\n",
       "</div>"
      ]
     },
     "metadata": {},
     "output_type": "display_data"
    },
    {
     "data": {
      "application/javascript": [
       "(function(root) {\n",
       "  function embed_document(root) {\n",
       "    var docs_json = {\"3aec0b54-0864-4ffe-9cda-9fd98cd64ffd\":{\"roots\":{\"references\":[{\"attributes\":{},\"id\":\"a6272132-737a-4fc9-bbcc-302b45a563d3\",\"type\":\"LinearScale\"},{\"attributes\":{},\"id\":\"6600c4c5-c5cc-433a-9d35-725c4caf4a95\",\"type\":\"BasicTickFormatter\"},{\"attributes\":{\"dimension\":1,\"plot\":{\"id\":\"0e91672e-14f7-40d2-ae01-48ed66137091\",\"subtype\":\"Figure\",\"type\":\"Plot\"},\"ticker\":{\"id\":\"6b8b5a63-baeb-44ea-891f-878c74a7697b\",\"type\":\"BasicTicker\"}},\"id\":\"349c522f-940c-4f3f-a2b3-4e36cfd9c270\",\"type\":\"Grid\"},{\"attributes\":{},\"id\":\"4b6b12ee-2517-4d65-aff4-31be4db0b892\",\"type\":\"ResetTool\"},{\"attributes\":{\"overlay\":{\"id\":\"d83b2be1-6bdc-4a39-9d96-bf589278bdf4\",\"type\":\"BoxAnnotation\"}},\"id\":\"04c6d15e-0240-4e80-b583-fb5092a2470a\",\"type\":\"BoxZoomTool\"},{\"attributes\":{\"line_alpha\":{\"value\":0.1},\"line_color\":{\"value\":\"#1f77b4\"},\"line_width\":{\"value\":4},\"x\":{\"field\":\"x\"},\"y\":{\"field\":\"y\"}},\"id\":\"b2ecd0dc-f756-4424-a2b8-0e8169de49fb\",\"type\":\"Line\"},{\"attributes\":{\"callback\":null},\"id\":\"a508d6dd-7689-4c13-8896-823cd2a41700\",\"type\":\"DataRange1d\"},{\"attributes\":{\"align\":\"center\",\"plot\":null,\"text\":\"Accuracy For Each Digits\",\"text_font_size\":{\"value\":\"20pt\"}},\"id\":\"aa80c9c7-e8e6-4a2d-9654-9cddee440953\",\"type\":\"Title\"},{\"attributes\":{},\"id\":\"6b8b5a63-baeb-44ea-891f-878c74a7697b\",\"type\":\"BasicTicker\"},{\"attributes\":{\"callback\":null,\"column_names\":[\"x\",\"y\"],\"data\":{\"x\":[0,1,2,3,4,5,6,7,8,9],\"y\":{\"__ndarray__\":\"WMoyxLE+VkDecYqO5NJYQJhMFYxKmk1ApHA9CtfPUkBCz2bV58ZQQHlYqDXNU0hA1CtlGeKoVUAAb4EExTtUQNPe4AuTAU9ATtGRXP6HVUA=\",\"dtype\":\"float64\",\"shape\":[10]}}},\"id\":\"2638fb7d-e6b7-4c49-9a6f-688c6dae0eac\",\"type\":\"ColumnDataSource\"},{\"attributes\":{\"data_source\":{\"id\":\"2638fb7d-e6b7-4c49-9a6f-688c6dae0eac\",\"type\":\"ColumnDataSource\"},\"glyph\":{\"id\":\"7c3f9bc8-0cd0-4f55-97bc-7ca5b7a1760d\",\"type\":\"Line\"},\"hover_glyph\":null,\"muted_glyph\":null,\"nonselection_glyph\":{\"id\":\"b2ecd0dc-f756-4424-a2b8-0e8169de49fb\",\"type\":\"Line\"},\"selection_glyph\":null,\"view\":{\"id\":\"396feebb-654b-4eaf-92da-3f99244875d2\",\"type\":\"CDSView\"}},\"id\":\"abee1964-7257-4e9c-8dce-f79718527a00\",\"type\":\"GlyphRenderer\"},{\"attributes\":{\"active_drag\":\"auto\",\"active_inspect\":\"auto\",\"active_scroll\":\"auto\",\"active_tap\":\"auto\",\"tools\":[{\"id\":\"598a6584-9b9c-47d8-9481-31d8ff584f1b\",\"type\":\"PanTool\"},{\"id\":\"b36b7aa3-1ee7-4acd-8a09-02f6a0f2de57\",\"type\":\"WheelZoomTool\"},{\"id\":\"04c6d15e-0240-4e80-b583-fb5092a2470a\",\"type\":\"BoxZoomTool\"},{\"id\":\"adb84f07-7c24-4adc-bdf0-2e2c490e747f\",\"type\":\"SaveTool\"},{\"id\":\"4b6b12ee-2517-4d65-aff4-31be4db0b892\",\"type\":\"ResetTool\"},{\"id\":\"24aef93c-f6a4-4dfb-a327-f68a80f747a5\",\"type\":\"HelpTool\"}]},\"id\":\"c9d8e279-4158-4b7a-8465-0695f0a7a358\",\"type\":\"Toolbar\"},{\"attributes\":{\"plot\":{\"id\":\"0e91672e-14f7-40d2-ae01-48ed66137091\",\"subtype\":\"Figure\",\"type\":\"Plot\"},\"ticker\":{\"id\":\"13bdbc1d-3ca4-48c4-a943-fdad86d1071e\",\"type\":\"BasicTicker\"}},\"id\":\"6aa7c3b9-fa7d-4f5f-8a55-ba8be68dd62b\",\"type\":\"Grid\"},{\"attributes\":{},\"id\":\"a32317d2-c41f-4e9e-9465-96a1f52b4fc9\",\"type\":\"LinearScale\"},{\"attributes\":{\"below\":[{\"id\":\"605515a5-19c5-4f1d-b4a9-80559fdc1dde\",\"type\":\"LinearAxis\"}],\"left\":[{\"id\":\"0febc09d-c1f6-4ad9-9408-45973231e34c\",\"type\":\"LinearAxis\"}],\"plot_width\":800,\"renderers\":[{\"id\":\"605515a5-19c5-4f1d-b4a9-80559fdc1dde\",\"type\":\"LinearAxis\"},{\"id\":\"6aa7c3b9-fa7d-4f5f-8a55-ba8be68dd62b\",\"type\":\"Grid\"},{\"id\":\"0febc09d-c1f6-4ad9-9408-45973231e34c\",\"type\":\"LinearAxis\"},{\"id\":\"349c522f-940c-4f3f-a2b3-4e36cfd9c270\",\"type\":\"Grid\"},{\"id\":\"d83b2be1-6bdc-4a39-9d96-bf589278bdf4\",\"type\":\"BoxAnnotation\"},{\"id\":\"abee1964-7257-4e9c-8dce-f79718527a00\",\"type\":\"GlyphRenderer\"}],\"title\":{\"id\":\"aa80c9c7-e8e6-4a2d-9654-9cddee440953\",\"type\":\"Title\"},\"toolbar\":{\"id\":\"c9d8e279-4158-4b7a-8465-0695f0a7a358\",\"type\":\"Toolbar\"},\"x_range\":{\"id\":\"a508d6dd-7689-4c13-8896-823cd2a41700\",\"type\":\"DataRange1d\"},\"x_scale\":{\"id\":\"a6272132-737a-4fc9-bbcc-302b45a563d3\",\"type\":\"LinearScale\"},\"y_range\":{\"id\":\"7782fc7f-944e-486d-af48-ee08ea03c738\",\"type\":\"DataRange1d\"},\"y_scale\":{\"id\":\"a32317d2-c41f-4e9e-9465-96a1f52b4fc9\",\"type\":\"LinearScale\"}},\"id\":\"0e91672e-14f7-40d2-ae01-48ed66137091\",\"subtype\":\"Figure\",\"type\":\"Plot\"},{\"attributes\":{\"callback\":null},\"id\":\"7782fc7f-944e-486d-af48-ee08ea03c738\",\"type\":\"DataRange1d\"},{\"attributes\":{\"line_color\":{\"value\":\"#6b6ecf\"},\"line_width\":{\"value\":4},\"x\":{\"field\":\"x\"},\"y\":{\"field\":\"y\"}},\"id\":\"7c3f9bc8-0cd0-4f55-97bc-7ca5b7a1760d\",\"type\":\"Line\"},{\"attributes\":{\"source\":{\"id\":\"2638fb7d-e6b7-4c49-9a6f-688c6dae0eac\",\"type\":\"ColumnDataSource\"}},\"id\":\"396feebb-654b-4eaf-92da-3f99244875d2\",\"type\":\"CDSView\"},{\"attributes\":{},\"id\":\"24aef93c-f6a4-4dfb-a327-f68a80f747a5\",\"type\":\"HelpTool\"},{\"attributes\":{},\"id\":\"598a6584-9b9c-47d8-9481-31d8ff584f1b\",\"type\":\"PanTool\"},{\"attributes\":{},\"id\":\"0079de4d-c9ba-4a5f-8ae7-9fd135d7606f\",\"type\":\"BasicTickFormatter\"},{\"attributes\":{\"bottom_units\":\"screen\",\"fill_alpha\":{\"value\":0.5},\"fill_color\":{\"value\":\"lightgrey\"},\"left_units\":\"screen\",\"level\":\"overlay\",\"line_alpha\":{\"value\":1.0},\"line_color\":{\"value\":\"black\"},\"line_dash\":[4,4],\"line_width\":{\"value\":2},\"plot\":null,\"render_mode\":\"css\",\"right_units\":\"screen\",\"top_units\":\"screen\"},\"id\":\"d83b2be1-6bdc-4a39-9d96-bf589278bdf4\",\"type\":\"BoxAnnotation\"},{\"attributes\":{},\"id\":\"b36b7aa3-1ee7-4acd-8a09-02f6a0f2de57\",\"type\":\"WheelZoomTool\"},{\"attributes\":{\"axis_label\":\"Labels/Digits\",\"axis_label_text_font_size\":{\"value\":\"20pt\"},\"formatter\":{\"id\":\"6600c4c5-c5cc-433a-9d35-725c4caf4a95\",\"type\":\"BasicTickFormatter\"},\"plot\":{\"id\":\"0e91672e-14f7-40d2-ae01-48ed66137091\",\"subtype\":\"Figure\",\"type\":\"Plot\"},\"ticker\":{\"id\":\"13bdbc1d-3ca4-48c4-a943-fdad86d1071e\",\"type\":\"BasicTicker\"}},\"id\":\"605515a5-19c5-4f1d-b4a9-80559fdc1dde\",\"type\":\"LinearAxis\"},{\"attributes\":{\"axis_label\":\"Testing Accuracy (%)\",\"axis_label_text_font_size\":{\"value\":\"20pt\"},\"formatter\":{\"id\":\"0079de4d-c9ba-4a5f-8ae7-9fd135d7606f\",\"type\":\"BasicTickFormatter\"},\"plot\":{\"id\":\"0e91672e-14f7-40d2-ae01-48ed66137091\",\"subtype\":\"Figure\",\"type\":\"Plot\"},\"ticker\":{\"id\":\"6b8b5a63-baeb-44ea-891f-878c74a7697b\",\"type\":\"BasicTicker\"}},\"id\":\"0febc09d-c1f6-4ad9-9408-45973231e34c\",\"type\":\"LinearAxis\"},{\"attributes\":{},\"id\":\"13bdbc1d-3ca4-48c4-a943-fdad86d1071e\",\"type\":\"BasicTicker\"},{\"attributes\":{},\"id\":\"adb84f07-7c24-4adc-bdf0-2e2c490e747f\",\"type\":\"SaveTool\"}],\"root_ids\":[\"0e91672e-14f7-40d2-ae01-48ed66137091\"]},\"title\":\"Bokeh Application\",\"version\":\"0.12.10\"}};\n",
       "    var render_items = [{\"docid\":\"3aec0b54-0864-4ffe-9cda-9fd98cd64ffd\",\"elementid\":\"e966f911-cabc-49d7-8202-5e956df351f2\",\"modelid\":\"0e91672e-14f7-40d2-ae01-48ed66137091\"}];\n",
       "\n",
       "    root.Bokeh.embed.embed_items(docs_json, render_items);\n",
       "  }\n",
       "\n",
       "  if (root.Bokeh !== undefined) {\n",
       "    embed_document(root);\n",
       "  } else {\n",
       "    var attempts = 0;\n",
       "    var timer = setInterval(function(root) {\n",
       "      if (root.Bokeh !== undefined) {\n",
       "        embed_document(root);\n",
       "        clearInterval(timer);\n",
       "      }\n",
       "      attempts++;\n",
       "      if (attempts > 100) {\n",
       "        console.log(\"Bokeh: ERROR: Unable to embed document because BokehJS library is missing\")\n",
       "        clearInterval(timer);\n",
       "      }\n",
       "    }, 10, root)\n",
       "  }\n",
       "})(window);"
      ],
      "application/vnd.bokehjs_exec.v0+json": ""
     },
     "metadata": {
      "application/vnd.bokehjs_exec.v0+json": {
       "id": "0e91672e-14f7-40d2-ae01-48ed66137091"
      }
     },
     "output_type": "display_data"
    }
   ],
   "source": [
    "utills.custom_analysis_line_plot(data = result_nb, x_col = 2, y_col = 0, title = \"Accuracy For Each Digits\", \n",
    "                     width = 800, height = 600, xlab = \"Labels/Digits\", ylab = \"Testing Accuracy (%)\", line_width = 4)"
   ]
  },
  {
   "cell_type": "markdown",
   "metadata": {},
   "source": [
    "From the above table and the graph I have the below inferences\n",
    "\n",
    "- Best prediction is for digit \"1\" with accuracy of 99.2952% which is almost 100% accurate and that is astonshing.\n",
    "- Worst prediction is for digit \"5\" with accuracy of 48.6547% which is really bad\n",
    "- Other than these two digits, such as \"0\", \"6\", \"7\" and \"9\" have testing accuracy greater than 80%"
   ]
  },
  {
   "cell_type": "markdown",
   "metadata": {},
   "source": [
    "## Conditional Probability plot\n",
    "\n",
    "The naive Bayes model provides the conditional probablity for each and every pixel of the images which on plotting over we get to know some interesting facts about the digits and why it has predcited an image to be that. Below we have \n",
    "\n",
    "- Correctly predcited image of a digit\n",
    "- Wrongly predcited image of a digit with actual prior probablity\n",
    "- Wrongly predicted same image of a digit with predicted prior probability\n",
    "\n",
    "I have made this plot in such a way that the conditional probablities lies over true label gaussian distribution of the prediction. I have provided the table for each of my predcition that describes what is happening in the image.\n",
    "\n",
    "# Digit \"0\" \n",
    "\n",
    "| Image Position | Actual | Predicted | Gassian Distribution |\n",
    "|----------------|--------|-----------|----------------------|\n",
    "|      Left      |   0    |     0     |          0           |\n",
    "|      Center    |   0    |     6     |          0           |\n",
    "|      Right     |   0    |     6     |          6           |\n",
    "\n",
    "The above table, the first column \"Image Position\" represents the digit position on the image, \"Actual\" represents the Actual label of the image, \"Predcited\" label of the image, \"Gaussian Distribution\" represents the gaussian distribution used to derive the conditional probability.\n",
    "\n",
    "For example using test set, the left part of the below image shows a \"0\" which have been identified correctly as \"0\", the center part shows a \"0\" which is not identified correctly as \"0\" isntead identified as 6 and the right part shows the conditional probablity of the wrongly predicted (as 6) \"0\" with its conditional probability deriving from the wrongly predicted number's (6) gaussian distributions. Similarly you can infere the below images too. \n",
    "\n",
    "We can see that the second image \"0\" is predicted as 6 as it is has lots of overlay over the 6's Gaussian conditional probablity."
   ]
  },
  {
   "cell_type": "code",
   "execution_count": 76,
   "metadata": {
    "scrolled": true
   },
   "outputs": [
    {
     "data": {
      "image/png": "[encoded data removed]",
      "text/plain": [
       "<matplotlib.figure.Figure at 0x1c22f290f0>"
      ]
     },
     "metadata": {},
     "output_type": "display_data"
    }
   ],
   "source": [
    "nb_model.conditional_prob_plot(X_test, y_test, pred, 0)"
   ]
  },
  {
   "cell_type": "markdown",
   "metadata": {},
   "source": [
    "# Digit \"1\" \n",
    "\n",
    "| Image Position | Actual | Predicted | Gassian Distribution |\n",
    "|----------------|--------|-----------|----------------------|\n",
    "|      Left      |    1   |     1     |          1           |\n",
    "|      Center    |    1   |     6     |          1           |\n",
    "|      Right     |    1   |     6     |          6           |"
   ]
  },
  {
   "cell_type": "code",
   "execution_count": 77,
   "metadata": {},
   "outputs": [
    {
     "data": {
      "image/png": "[encoded data removed]",
      "text/plain": [
       "<matplotlib.figure.Figure at 0x1c20b55c88>"
      ]
     },
     "metadata": {},
     "output_type": "display_data"
    }
   ],
   "source": [
    "nb_model.conditional_prob_plot(X_test, y_test, pred, 1)"
   ]
  },
  {
   "cell_type": "markdown",
   "metadata": {},
   "source": [
    "# Digit \"2\" \n",
    "\n",
    "| Image Position | Actual | Predicted | Gassian Distribution |\n",
    "|----------------|--------|-----------|----------------------|\n",
    "|      Left      |   2    |     2     |          2           |\n",
    "|      Center    |   2    |     1     |          2           |\n",
    "|      Right     |   2    |     1     |          1           |"
   ]
  },
  {
   "cell_type": "code",
   "execution_count": 78,
   "metadata": {
    "scrolled": true
   },
   "outputs": [
    {
     "data": {
      "image/png": "[encoded data removed]",
      "text/plain": [
       "<matplotlib.figure.Figure at 0x1c23444c18>"
      ]
     },
     "metadata": {},
     "output_type": "display_data"
    }
   ],
   "source": [
    "nb_model.conditional_prob_plot(X_test, y_test, pred, 2)"
   ]
  },
  {
   "cell_type": "markdown",
   "metadata": {},
   "source": [
    "# Digit \"3\" \n",
    "\n",
    "| Image Position | Actual | Predicted | Gassian Distribution |\n",
    "|----------------|--------|-----------|----------------------|\n",
    "|      Left      |    3   |     3     |          3           |\n",
    "|      Center    |    3   |     6     |          3           |\n",
    "|      Right     |    3   |     6     |          6           |"
   ]
  },
  {
   "cell_type": "code",
   "execution_count": 79,
   "metadata": {},
   "outputs": [
    {
     "data": {
      "image/png": "[encoded data removed]",
      "text/plain": [
       "<matplotlib.figure.Figure at 0x1c2323d2b0>"
      ]
     },
     "metadata": {},
     "output_type": "display_data"
    }
   ],
   "source": [
    "nb_model.conditional_prob_plot(X_test, y_test, pred, 3)"
   ]
  },
  {
   "cell_type": "markdown",
   "metadata": {},
   "source": [
    "# Digit \"4\" \n",
    "\n",
    "| Image Position | Actual | Predicted | Gassian Distribution |\n",
    "|----------------|--------|-----------|----------------------|\n",
    "|      Left      |    4   |     4     |         4            |\n",
    "|      Center    |    4   |     9     |         4            |\n",
    "|      Right     |    4   |     9     |         9            |"
   ]
  },
  {
   "cell_type": "code",
   "execution_count": 80,
   "metadata": {},
   "outputs": [
    {
     "data": {
      "image/png": "[encoded data removed]",
      "text/plain": [
       "<matplotlib.figure.Figure at 0x1c209a5940>"
      ]
     },
     "metadata": {},
     "output_type": "display_data"
    }
   ],
   "source": [
    "nb_model.conditional_prob_plot(X_test, y_test, pred, 4)"
   ]
  },
  {
   "cell_type": "markdown",
   "metadata": {},
   "source": [
    "# Digit \"5\" \n",
    "\n",
    "| Image Position | Actual | Predicted | Gassian Distribution |\n",
    "|----------------|--------|-----------|----------------------|\n",
    "|      Left      |    5   |     5     |          5           |\n",
    "|      Center    |    5   |     3     |          5           |\n",
    "|      Right     |    5   |     3     |          3           |"
   ]
  },
  {
   "cell_type": "code",
   "execution_count": 81,
   "metadata": {},
   "outputs": [
    {
     "data": {
      "image/png": "[encoded data removed]",
      "text/plain": [
       "<matplotlib.figure.Figure at 0x1c20bfc2e8>"
      ]
     },
     "metadata": {},
     "output_type": "display_data"
    }
   ],
   "source": [
    "nb_model.conditional_prob_plot(X_test, y_test, pred, 5)"
   ]
  },
  {
   "cell_type": "markdown",
   "metadata": {},
   "source": [
    "# Digit \"6\" \n",
    "\n",
    "| Image Position | Actual | Predicted | Gassian Distribution |\n",
    "|----------------|--------|-----------|----------------------|\n",
    "|      Left      |   6    |     6     |          6           |\n",
    "|      Center    |   6    |     5     |          6           |\n",
    "|      Right     |   6    |     5     |          5           |"
   ]
  },
  {
   "cell_type": "code",
   "execution_count": 82,
   "metadata": {},
   "outputs": [
    {
     "data": {
      "image/png": "[encoded data removed]",
      "text/plain": [
       "<matplotlib.figure.Figure at 0x1c219ac908>"
      ]
     },
     "metadata": {},
     "output_type": "display_data"
    }
   ],
   "source": [
    "nb_model.conditional_prob_plot(X_test, y_test, pred, 6)"
   ]
  },
  {
   "cell_type": "markdown",
   "metadata": {},
   "source": [
    "# Digit \"7\" \n",
    "\n",
    "| Image Position | Actual | Predicted | Gassian Distribution |\n",
    "|----------------|--------|-----------|----------------------|\n",
    "|      Left      |   7    |     7     |         7            |\n",
    "|      Center    |   7    |     1     |         7            |\n",
    "|      Right     |   7    |     1     |         1            |"
   ]
  },
  {
   "cell_type": "code",
   "execution_count": 83,
   "metadata": {},
   "outputs": [
    {
     "data": {
      "image/png": "[encoded data removed]",
      "text/plain": [
       "<matplotlib.figure.Figure at 0x1c21057cf8>"
      ]
     },
     "metadata": {},
     "output_type": "display_data"
    }
   ],
   "source": [
    "nb_model.conditional_prob_plot(X_test, y_test, pred, 7)"
   ]
  },
  {
   "cell_type": "markdown",
   "metadata": {},
   "source": [
    "# Digit \"8\" \n",
    "\n",
    "| Image Position | Actual | Predicted | Gassian Distribution |\n",
    "|----------------|--------|-----------|----------------------|\n",
    "|      Left      |    8   |     8     |          8           |\n",
    "|      Center    |    8   |     9     |          8           |\n",
    "|      Right     |    8   |     9     |          9           |"
   ]
  },
  {
   "cell_type": "code",
   "execution_count": 84,
   "metadata": {},
   "outputs": [
    {
     "data": {
      "image/png": "[encoded data removed]",
      "text/plain": [
       "<matplotlib.figure.Figure at 0x106562198>"
      ]
     },
     "metadata": {},
     "output_type": "display_data"
    }
   ],
   "source": [
    "nb_model.conditional_prob_plot(X_test, y_test, pred, 8)"
   ]
  },
  {
   "cell_type": "markdown",
   "metadata": {},
   "source": [
    "# Digit \"9\" \n",
    "\n",
    "| Image Position | Actual | Predicted | Gassian Distribution |\n",
    "|----------------|--------|-----------|----------------------|\n",
    "|      Left      |   9    |     9     |          9           |\n",
    "|      Center    |   9    |     1     |          9           |\n",
    "|      Right     |   9    |     1     |          1           |"
   ]
  },
  {
   "cell_type": "code",
   "execution_count": 85,
   "metadata": {},
   "outputs": [
    {
     "data": {
      "image/png": "[encoded data removed]",
      "text/plain": [
       "<matplotlib.figure.Figure at 0x1c2339a668>"
      ]
     },
     "metadata": {},
     "output_type": "display_data"
    }
   ],
   "source": [
    "nb_model.conditional_prob_plot(X_test, y_test, pred, 9)"
   ]
  },
  {
   "cell_type": "markdown",
   "metadata": {
    "collapsed": true
   },
   "source": [
    "Thus above we have the images of the conditional probabilities. According to me with the above plots of the digits, I feel that naive bayes classifier works by the counting up the overlapping regions of the image over the conditional probability. That is if the there is maximum overlaps of the image pixels value with the gaussian of pixels for a particular class, than the image is going to be identified as that image."
   ]
  },
  {
   "cell_type": "markdown",
   "metadata": {},
   "source": [
    "## Part 2"
   ]
  },
  {
   "cell_type": "markdown",
   "metadata": {},
   "source": [
    "(60 points) Build a regularized logistic regression classifier, where you use ridge (l2) regularization. Test this classifier on the MNIST data set by developing 10 classifiers: 0 versus all, 1 versus all, 2 versus all, ... , 9 versus all. Provide a confusion matrix, accuracy for each digit, and overall accuracy. Plot the overall test accuracy versus the regularization value where a log-scale is used for regularization value.\n",
    "\n",
    "Essentially, the ‘1 versus all’ classifier is trained to give you a probability of the digit 1 versus all other digits. Hence, digit 1 is class +1 and all other digits are class -1. Hence, to classify a test image, you take the maximum probability from all 10 classifiers, giving the predicted class of the input image.\n",
    "\n",
    "l2 regularized logistic regression uses the following log-likelihood,\n",
    "\n",
    "<img src=\"https://raw.githubusercontent.com/nishanthgandhidoss/nishanthgandhidoss.github.io/master/image/Logistic%20Regression%201.png\" alt=\"Logistic Regression Formula - 1\" align=\"center\" height=\"400\" width=\"400\"/>\n",
    "\n",
    "Recall, that by taking the gradient of L(w), we obtained the following gradient descent update equation for (non-regularized) logistic regression,\n",
    "\n",
    "<img src=\"https://raw.githubusercontent.com/nishanthgandhidoss/nishanthgandhidoss.github.io/master/image/Logistic%20Regression%202.png\" alt=\"Logistic Regression Formula - 2\" align=\"center\" height=\"400\" width=\"400\"/>\n",
    "\n",
    "Derive the update equation for the regularized logistic regression and present your derivation. Apply that classifier to the MNIST data set. Don’t forget to add a column of 1s to your 784-length feature vector (the image values) so that you get the bias term with your classifier. For each of your 10 trained classifiers, show an image of the 784 weights (don’t show the bias weight) as a 28 \u0002 28 image. Do these images provide any insight to how this classifier works?"
   ]
  },
  {
   "cell_type": "markdown",
   "metadata": {},
   "source": [
    "## Logistic Regression Class"
   ]
  },
  {
   "cell_type": "markdown",
   "metadata": {},
   "source": [
    "In order to encapsulates everything under a hood, I have created the LogisticRegression class which will have functions that can be reused upon required."
   ]
  },
  {
   "cell_type": "code",
   "execution_count": 13,
   "metadata": {
    "collapsed": true
   },
   "outputs": [],
   "source": [
    "class LogisticRegression(object):\n",
    "    \"\"\" Performs LogisticRegression Classfication\n",
    "    \n",
    "    Trains a one versus all binary classifier model for categorical \n",
    "    prediction of a discrete target variable with the features \n",
    "    using gradient descent and rigde regulaizer. Best model is selected \n",
    "    by performing cross validation. Provides the error accuracy and \n",
    "    testing results for each class\n",
    "    \n",
    "    Arguments:\n",
    "        n_epochs: Number of iteration to run for the gradient descent\n",
    "            Default is 200 (Integer)\n",
    "        learning_rate: Step size each update of the gradient descent.\n",
    "            Default is 1.5e-5 (Float)\n",
    "        lamda_values: Tune the importance of the ridge regulaizer\n",
    "        best_acc: Accuracy of the best model from the model selection  = 0\n",
    "        best_lamda: Best Lambda value for the dataset\n",
    "        best_weights: Weights from the trained model\n",
    "        accuracies: List of accuracies from the model training with cross \n",
    "            validation\n",
    "        result_df: Accuracy and error of the data along with class labels\n",
    "    \n",
    "    Returns:\n",
    "        LogisticRegression: Logistic Regression class instance\n",
    "    \"\"\"\n",
    "    \n",
    "    # Creating the instance of the utills class\n",
    "    utills = Utills()\n",
    "    \n",
    "    def __init__(self, n_epochs = 200, learning_rate = 5e-5, lamda_values = [0.01, 0.1, 1, 10, 100]):\n",
    "        self.n_epochs = n_epochs\n",
    "        self.learning_rate = learning_rate\n",
    "        self.lamda_values = lamda_values\n",
    "        self.best_acc = 0\n",
    "        self.best_lamda = float(\"inf\")\n",
    "        self.best_weights = {}\n",
    "        self.accuracies = []\n",
    "        self.result_df = None\n",
    "    \n",
    "    def predict(self, X, y, weights = None, store_df = False):\n",
    "        \"\"\" Predicts the labels for the features\n",
    "        \n",
    "        Takes the feature vectors and predcits the output label, stores\n",
    "        error and accuracy on each label and also computes the overall \n",
    "        accuracy of the model on the test set\n",
    "        \n",
    "        Arguments:\n",
    "            X: Data for which labels to be predicted\n",
    "            y: Actual labels for the features\n",
    "            labels: List of classes in the dataset\n",
    "            weights: Pre trained weights if you have one other the \n",
    "                objects trained weights. Defaults to None\n",
    "            store_df: Default is False. Boolean value indicating whether we \n",
    "                need to compute and store the testing error and accuracy on\n",
    "                each labels in the data\n",
    "        \n",
    "        Returns:\n",
    "            accuracy: Overall accuracy of the model on the given data\n",
    "        \"\"\"\n",
    "        # Perform One hot encoding\n",
    "        y_encoded = utills.onehot_encoder(y.reshape(len(y), 1))\n",
    "        labels = np.unique(y)\n",
    "        # Intialize the variables with empty arrays\n",
    "        accuracy_list = np.array([])\n",
    "        probs = []\n",
    "        # Loop through each labels in the dataset\n",
    "        for label in labels:\n",
    "            # Check if weight is none, then get the object instance weight\n",
    "            # compute the scores else use the weight passed as argument \n",
    "            if weights is None:\n",
    "                scores = np.dot(X, self.best_weights[str(label)])\n",
    "            else:\n",
    "                scores = np.dot(X, weights[str(label)])\n",
    "            # Compute the probabilites by passing the scores to the \n",
    "            # sigmoid function and make the rpediction with by setting\n",
    "            # the thereshold of 0.5 \n",
    "            pred_prob = self.sigmoid(scores)\n",
    "            probs.append(pred_prob)\n",
    "        probs = np.hstack(probs)\n",
    "        pred = np.argmax(probs, axis = 1).reshape(probs.shape[0], 1)\n",
    "        return pred\n",
    "    \n",
    "    def sigmoid(self, scores):\n",
    "        \"\"\" Perform the sigmoid operation \n",
    "        \n",
    "        Take the scores as inpout and performs the sigmoid operation on it \n",
    "        to the return the result. Sigmoid ranges from 0 to q. It is just the \n",
    "        probability score. Read more here:- \n",
    "        https://en.wikipedia.org/wiki/Sigmoid_function\n",
    "        \n",
    "        Arguments:\n",
    "            scores: numoy array scores to be transformed to sigmoid \n",
    "        \n",
    "        Returns:\n",
    "            sigmoid: sigmoid transform of the scores\n",
    "        \"\"\"\n",
    "        # Calculates the sigmoid\n",
    "        sigmoid = 1 / (1 + np.exp(-scores))\n",
    "        return sigmoid\n",
    "\n",
    "    def gradient_descent(self, X, y, n_epochs, lamda = 0.1, verbose = False):\n",
    "        \"\"\" Perform Gradient descent \n",
    "        \n",
    "        Computes the gradient and update the weights for specified number of\n",
    "        epochs using the errors and applying the ridge regrssion over the \n",
    "        errors computation\n",
    "        \n",
    "        Arguments:\n",
    "            X: Feature data\n",
    "            y: Labels for the features\n",
    "            w: Inital weights\n",
    "            n_epochs: No of epochs or iteration to be executed\n",
    "            lamda: Regualrization parameter for the ridge regression. Default is 0.1\n",
    "            \n",
    "        Returns:\n",
    "            w: Trained weights for the model\n",
    "        \"\"\"\n",
    "        # Intialize the weights\n",
    "        w = np.zeros((X.shape[1], 1))\n",
    "        # Loops over the number of epochs for computating the gradients\n",
    "        for epoch in range(n_epochs):\n",
    "            N = X.shape[0]\n",
    "            scores = X.dot(w)\n",
    "            y_hat = self.sigmoid(scores)\n",
    "            error = y_hat - y\n",
    "            gradient = np.dot(X.T, error) + (lamda * w)\n",
    "            if (epoch + 1) % (n_epochs // 5) == 0 and verbose:\n",
    "                print(\"Epoch\", epoch, np.sum(np.abs(gradient)) / len(gradient))\n",
    "            w = w - (self.learning_rate) * gradient\n",
    "        return w\n",
    "\n",
    "    def fit(self, X, y):\n",
    "        \"\"\" Fits the Logistic Regression \n",
    "        \n",
    "        Train the model using the model selected using k fold cross \n",
    "        validation to get the optimal lambda values. the trained model\n",
    "        is the list of weights for the features. Saves the weight to the\n",
    "        class instance variable \"best_weights\"\n",
    "        \n",
    "        Arguments:\n",
    "            X: Feature data vectors\n",
    "            y: Labels for the feature\n",
    "            \n",
    "        Returns:\n",
    "            None\n",
    "        \"\"\"\n",
    "        # Get the object labels\n",
    "        labels = np.unique(y)\n",
    "        # Perform one hot encoding \n",
    "        y_encode = self.utills.onehot_encoder(y)\n",
    "        # Add bias\n",
    "        X = np.hstack((np.ones((X.shape[0], 1)), X))\n",
    "        # Get the 5 fold cross validation index\n",
    "        cv = utills.k_fold(X, k = 5, seed = 1)\n",
    "        # Perform K fold cv to select the best lambda values for the ridge\n",
    "        # regression model\n",
    "        for lamda in self.lamda_values:\n",
    "            # Intailize the varibles \n",
    "            weights_temp = dict()\n",
    "            acc_list = np.array([])\n",
    "            # Loop over the K folds\n",
    "            for train_cv, test_cv in cv:\n",
    "                # Subsets the data according to the folds\n",
    "                X_train_cv = X[train_cv]\n",
    "                y_train_cv = y_encode[train_cv]\n",
    "                X_test_cv = X[test_cv]\n",
    "                y_test_cv = y[test_cv]\n",
    "                # Compute the weights each labesl using gradient descent \n",
    "                # model with one versus all model\n",
    "                for label in labels:\n",
    "                    # Get the labels\n",
    "                    y_label = y_train_cv[:, label].reshape(y_train_cv.shape[0], 1) \n",
    "                    # Compute the best weights and it to the weight dict\n",
    "                    weight = self.gradient_descent(X_train_cv, y_label, n_epochs = self.n_epochs, lamda = lamda)\n",
    "                    weights_temp[str(label)] = weight\n",
    "                # Update the accuracy list for each labels\n",
    "                acc_list = np.append(acc_list, self.testing_result(X_test_cv, y_test_cv, weights_temp))\n",
    "            # Compute and update the overall accuracy for the fold to the list\n",
    "            acc = np.mean(acc_list)\n",
    "            self.accuracies.append(acc)\n",
    "            # Keep updating the best lambda and weights\n",
    "            if self.best_acc < acc:\n",
    "                self.best_acc = acc\n",
    "                self.best_lamda = lamda\n",
    "        # Train the model again with the full training set with \n",
    "        # the best lambda values\n",
    "        print(\"I am here\")\n",
    "        for label in labels:\n",
    "            print(label)\n",
    "            y_label = y_encode[:, label]\n",
    "            weight = self.gradient_descent(X, y_label.reshape(len(y_label), 1), n_epochs = self.n_epochs, \n",
    "                                           lamda = 1, verbose = True)\n",
    "            self.best_weights[str(label)] = weight\n",
    "            \n",
    "    def weights_plot(self, labels):\n",
    "        \"\"\" Create plots using Model weights\n",
    "\n",
    "        Take the trained weights leaving bechind the bias for all the \n",
    "        labels in the dataset and creates a plot of the weights that\n",
    "        helping to understand what has made the model to predict the new\n",
    "        images to a certain label\n",
    "\n",
    "        Arguments:\n",
    "            labels: Labels of the data\n",
    "\n",
    "        Returns:\n",
    "            None (plots the images)\n",
    "        \"\"\"\n",
    "        plt.figure(figsize = (19, 9))\n",
    "        # Loop through the labels \n",
    "        for label in labels:\n",
    "            # Subset the weight\n",
    "            w = self.best_weights[str(label)][1:].reshape(28, 28)\n",
    "            # Show the image of the weights\n",
    "            ax = plt.subplot(2, 5, label + 1)\n",
    "            ax.set_title(str(label), fontsize = 30)\n",
    "            plt.imshow(w)\n",
    "        plt.suptitle(\"Weights for each Labels\", fontsize = 30)\n",
    "        plt.show()"
   ]
  },
  {
   "cell_type": "markdown",
   "metadata": {},
   "source": [
    "As we have the class lets use them to compute the overall acuracy by fitting and predicting with the model."
   ]
  },
  {
   "cell_type": "code",
   "execution_count": null,
   "metadata": {},
   "outputs": [],
   "source": [
    "# Store the starting time for query time computation\n",
    "start_time = timeit.default_timer()\n",
    "\n",
    "# Create the class instances\n",
    "utills = Utills()\n",
    "clf = LogisticRegression(n_epochs = 2000)\n",
    "\n",
    "# Transform the features using z score normalization\n",
    "X_train_norm = utills.z_score_norm(X_train)\n",
    "\n",
    "# Create the path model object\n",
    "my_file = Path(\"model100.hdf5\")\n",
    "# Check if the trained model file is already exists if then\n",
    "# load the model else fit the model \n",
    "if my_file.is_file():\n",
    "    # Open the file\n",
    "    with open('model.hdf5', 'rb') as fp:\n",
    "        # load the pickle file and intialize the object instance\n",
    "        clf = pickle.load(fp)\n",
    "else:\n",
    "    # Fit the Logistic regression model over the training data\n",
    "    clf.fit(X_train_norm, y_train)\n",
    "    # Store the model\n",
    "    with open(\"model.hdf5\", \"wb\") as fp:\n",
    "        pickle.dump(clf, fp)\n",
    "\n",
    "# Print the Query time\n",
    "print(\"Run time:\", round((timeit.default_timer() - start_time) / 60, 2), \"minutes\")"
   ]
  },
  {
   "cell_type": "markdown",
   "metadata": {},
   "source": [
    "The model took almost 2 and half hours to completely train by doing model seletion with 5 fold cross validation. I stored the model with all its attributes such as weights, best lamda values, training accuracies etc. to reuse it and reduce the computation time whenever you need to access the model somewhere quickly. "
   ]
  },
  {
   "cell_type": "markdown",
   "metadata": {},
   "source": [
    "## Training accuracies vs Lambda values\n",
    "\n",
    "Lets just see how the model has selected the best lambda values using 5 fold cross validation by visualizing each lambda values and its accuracies while on training the model."
   ]
  },
  {
   "cell_type": "code",
   "execution_count": 88,
   "metadata": {},
   "outputs": [
    {
     "data": {
      "text/html": [
       "\n",
       "<div class=\"bk-root\">\n",
       "    <div class=\"bk-plotdiv\" id=\"d9e38919-9ba6-4bb7-8775-f5779442811a\"></div>\n",
       "</div>"
      ]
     },
     "metadata": {},
     "output_type": "display_data"
    },
    {
     "data": {
      "application/javascript": [
       "(function(root) {\n",
       "  function embed_document(root) {\n",
       "    var docs_json = {\"d5971814-2f5a-4f09-80a2-de59183e259a\":{\"roots\":{\"references\":[{\"attributes\":{\"line_color\":{\"value\":\"#6b6ecf\"},\"line_width\":{\"value\":4},\"x\":{\"field\":\"x\"},\"y\":{\"field\":\"y\"}},\"id\":\"c76e1142-adc9-410e-9e24-b5701951c7e1\",\"type\":\"Line\"},{\"attributes\":{\"callback\":null},\"id\":\"f9d82bdd-3f44-40f3-8267-07c6aaaf6794\",\"type\":\"DataRange1d\"},{\"attributes\":{\"dimension\":1,\"plot\":{\"id\":\"9cac14c3-875d-47a6-9162-88676896e829\",\"subtype\":\"Figure\",\"type\":\"Plot\"},\"ticker\":{\"id\":\"97d058c2-bed7-4eb7-9a6b-ffa514409688\",\"type\":\"BasicTicker\"}},\"id\":\"9fda99a9-1f59-4394-925c-d290263212a6\",\"type\":\"Grid\"},{\"attributes\":{},\"id\":\"2475396b-0231-4a4b-89b7-0066a17c7f3c\",\"type\":\"HelpTool\"},{\"attributes\":{\"callback\":null},\"id\":\"da6f1115-2fa5-44ef-aa72-aa0c9c3b5c7d\",\"type\":\"DataRange1d\"},{\"attributes\":{},\"id\":\"55281d61-ea6d-4830-9023-943e8b664c8a\",\"type\":\"SaveTool\"},{\"attributes\":{\"below\":[{\"id\":\"e6f97494-697c-4c70-aa62-439f18518809\",\"type\":\"LinearAxis\"}],\"left\":[{\"id\":\"791150b5-9049-4b72-b9cd-873b480901fa\",\"type\":\"LinearAxis\"}],\"plot_width\":800,\"renderers\":[{\"id\":\"e6f97494-697c-4c70-aa62-439f18518809\",\"type\":\"LinearAxis\"},{\"id\":\"7600e84f-1902-4c92-b3f7-454d5d5d8fa6\",\"type\":\"Grid\"},{\"id\":\"791150b5-9049-4b72-b9cd-873b480901fa\",\"type\":\"LinearAxis\"},{\"id\":\"9fda99a9-1f59-4394-925c-d290263212a6\",\"type\":\"Grid\"},{\"id\":\"119369df-4ada-4b2d-8421-f7c0dcbf4306\",\"type\":\"BoxAnnotation\"},{\"id\":\"0d3b1edc-6d1c-40bb-ab91-1b8d7989ba28\",\"type\":\"GlyphRenderer\"}],\"title\":{\"id\":\"9491f088-4663-49ef-b647-0b30ebc9f58c\",\"type\":\"Title\"},\"toolbar\":{\"id\":\"7c3d51f0-1e28-4231-8a0f-f9ce73942b8e\",\"type\":\"Toolbar\"},\"x_range\":{\"id\":\"f9d82bdd-3f44-40f3-8267-07c6aaaf6794\",\"type\":\"DataRange1d\"},\"x_scale\":{\"id\":\"b568d7d7-5234-4a16-8b36-7e5fc8a767b2\",\"type\":\"LinearScale\"},\"y_range\":{\"id\":\"da6f1115-2fa5-44ef-aa72-aa0c9c3b5c7d\",\"type\":\"DataRange1d\"},\"y_scale\":{\"id\":\"6c422392-13d3-4fb7-8412-cad618549bff\",\"type\":\"LinearScale\"}},\"id\":\"9cac14c3-875d-47a6-9162-88676896e829\",\"subtype\":\"Figure\",\"type\":\"Plot\"},{\"attributes\":{},\"id\":\"7230e049-92f1-4808-a897-b3e3166671b2\",\"type\":\"BasicTickFormatter\"},{\"attributes\":{\"active_drag\":\"auto\",\"active_inspect\":\"auto\",\"active_scroll\":\"auto\",\"active_tap\":\"auto\",\"tools\":[{\"id\":\"6446d885-122e-4847-b6b7-4f2b98233fb0\",\"type\":\"PanTool\"},{\"id\":\"eb9b0ce9-a72b-4417-aaf7-1d3116b71c5a\",\"type\":\"WheelZoomTool\"},{\"id\":\"afff9ca0-d7eb-4c92-ab89-31779e9d239c\",\"type\":\"BoxZoomTool\"},{\"id\":\"55281d61-ea6d-4830-9023-943e8b664c8a\",\"type\":\"SaveTool\"},{\"id\":\"1ea361ee-4363-47bf-8e1a-ef418e477e2f\",\"type\":\"ResetTool\"},{\"id\":\"2475396b-0231-4a4b-89b7-0066a17c7f3c\",\"type\":\"HelpTool\"}]},\"id\":\"7c3d51f0-1e28-4231-8a0f-f9ce73942b8e\",\"type\":\"Toolbar\"},{\"attributes\":{\"callback\":null,\"column_names\":[\"x\",\"y\"],\"data\":{\"x\":{\"__ndarray__\":\"FVW1u7FrEsAVVbW7sWsCwAAAAAAAAAAAFlW1u7FrAkAWVbW7sWsSQA==\",\"dtype\":\"float64\",\"shape\":[5]},\"y\":{\"__ndarray__\":\"UrgehevhU0DsUbgehRtWQDMzMzMzw1ZA7FG4HoVbVEDD9ShcjyJTQA==\",\"dtype\":\"float64\",\"shape\":[5]}}},\"id\":\"2876465a-4430-4b25-b235-79390d22e610\",\"type\":\"ColumnDataSource\"},{\"attributes\":{\"align\":\"center\",\"plot\":null,\"text\":\"Training Accuracies vs Lambda\",\"text_font_size\":{\"value\":\"20pt\"}},\"id\":\"9491f088-4663-49ef-b647-0b30ebc9f58c\",\"type\":\"Title\"},{\"attributes\":{\"overlay\":{\"id\":\"119369df-4ada-4b2d-8421-f7c0dcbf4306\",\"type\":\"BoxAnnotation\"}},\"id\":\"afff9ca0-d7eb-4c92-ab89-31779e9d239c\",\"type\":\"BoxZoomTool\"},{\"attributes\":{},\"id\":\"1ea361ee-4363-47bf-8e1a-ef418e477e2f\",\"type\":\"ResetTool\"},{\"attributes\":{\"line_alpha\":{\"value\":0.1},\"line_color\":{\"value\":\"#1f77b4\"},\"line_width\":{\"value\":4},\"x\":{\"field\":\"x\"},\"y\":{\"field\":\"y\"}},\"id\":\"9f25f59b-e459-4a66-918f-b0b7b001e957\",\"type\":\"Line\"},{\"attributes\":{},\"id\":\"b568d7d7-5234-4a16-8b36-7e5fc8a767b2\",\"type\":\"LinearScale\"},{\"attributes\":{},\"id\":\"6c422392-13d3-4fb7-8412-cad618549bff\",\"type\":\"LinearScale\"},{\"attributes\":{\"source\":{\"id\":\"2876465a-4430-4b25-b235-79390d22e610\",\"type\":\"ColumnDataSource\"}},\"id\":\"7fbdc54e-75b0-4e10-ba05-31feac597a60\",\"type\":\"CDSView\"},{\"attributes\":{},\"id\":\"eb9b0ce9-a72b-4417-aaf7-1d3116b71c5a\",\"type\":\"WheelZoomTool\"},{\"attributes\":{},\"id\":\"6446d885-122e-4847-b6b7-4f2b98233fb0\",\"type\":\"PanTool\"},{\"attributes\":{\"bottom_units\":\"screen\",\"fill_alpha\":{\"value\":0.5},\"fill_color\":{\"value\":\"lightgrey\"},\"left_units\":\"screen\",\"level\":\"overlay\",\"line_alpha\":{\"value\":1.0},\"line_color\":{\"value\":\"black\"},\"line_dash\":[4,4],\"line_width\":{\"value\":2},\"plot\":null,\"render_mode\":\"css\",\"right_units\":\"screen\",\"top_units\":\"screen\"},\"id\":\"119369df-4ada-4b2d-8421-f7c0dcbf4306\",\"type\":\"BoxAnnotation\"},{\"attributes\":{\"plot\":{\"id\":\"9cac14c3-875d-47a6-9162-88676896e829\",\"subtype\":\"Figure\",\"type\":\"Plot\"},\"ticker\":{\"id\":\"eb2dd645-7782-4607-93e0-69ad1e089e77\",\"type\":\"BasicTicker\"}},\"id\":\"7600e84f-1902-4c92-b3f7-454d5d5d8fa6\",\"type\":\"Grid\"},{\"attributes\":{\"data_source\":{\"id\":\"2876465a-4430-4b25-b235-79390d22e610\",\"type\":\"ColumnDataSource\"},\"glyph\":{\"id\":\"c76e1142-adc9-410e-9e24-b5701951c7e1\",\"type\":\"Line\"},\"hover_glyph\":null,\"muted_glyph\":null,\"nonselection_glyph\":{\"id\":\"9f25f59b-e459-4a66-918f-b0b7b001e957\",\"type\":\"Line\"},\"selection_glyph\":null,\"view\":{\"id\":\"7fbdc54e-75b0-4e10-ba05-31feac597a60\",\"type\":\"CDSView\"}},\"id\":\"0d3b1edc-6d1c-40bb-ab91-1b8d7989ba28\",\"type\":\"GlyphRenderer\"},{\"attributes\":{},\"id\":\"97d058c2-bed7-4eb7-9a6b-ffa514409688\",\"type\":\"BasicTicker\"},{\"attributes\":{\"axis_label\":\"Lambda\",\"axis_label_text_font_size\":{\"value\":\"20pt\"},\"formatter\":{\"id\":\"ac82361d-09a2-42db-bec5-436371de8365\",\"type\":\"BasicTickFormatter\"},\"plot\":{\"id\":\"9cac14c3-875d-47a6-9162-88676896e829\",\"subtype\":\"Figure\",\"type\":\"Plot\"},\"ticker\":{\"id\":\"eb2dd645-7782-4607-93e0-69ad1e089e77\",\"type\":\"BasicTicker\"}},\"id\":\"e6f97494-697c-4c70-aa62-439f18518809\",\"type\":\"LinearAxis\"},{\"attributes\":{},\"id\":\"ac82361d-09a2-42db-bec5-436371de8365\",\"type\":\"BasicTickFormatter\"},{\"attributes\":{},\"id\":\"eb2dd645-7782-4607-93e0-69ad1e089e77\",\"type\":\"BasicTicker\"},{\"attributes\":{\"axis_label\":\"Accuracy\",\"axis_label_text_font_size\":{\"value\":\"20pt\"},\"formatter\":{\"id\":\"7230e049-92f1-4808-a897-b3e3166671b2\",\"type\":\"BasicTickFormatter\"},\"plot\":{\"id\":\"9cac14c3-875d-47a6-9162-88676896e829\",\"subtype\":\"Figure\",\"type\":\"Plot\"},\"ticker\":{\"id\":\"97d058c2-bed7-4eb7-9a6b-ffa514409688\",\"type\":\"BasicTicker\"}},\"id\":\"791150b5-9049-4b72-b9cd-873b480901fa\",\"type\":\"LinearAxis\"}],\"root_ids\":[\"9cac14c3-875d-47a6-9162-88676896e829\"]},\"title\":\"Bokeh Application\",\"version\":\"0.12.10\"}};\n",
       "    var render_items = [{\"docid\":\"d5971814-2f5a-4f09-80a2-de59183e259a\",\"elementid\":\"d9e38919-9ba6-4bb7-8775-f5779442811a\",\"modelid\":\"9cac14c3-875d-47a6-9162-88676896e829\"}];\n",
       "\n",
       "    root.Bokeh.embed.embed_items(docs_json, render_items);\n",
       "  }\n",
       "\n",
       "  if (root.Bokeh !== undefined) {\n",
       "    embed_document(root);\n",
       "  } else {\n",
       "    var attempts = 0;\n",
       "    var timer = setInterval(function(root) {\n",
       "      if (root.Bokeh !== undefined) {\n",
       "        embed_document(root);\n",
       "        clearInterval(timer);\n",
       "      }\n",
       "      attempts++;\n",
       "      if (attempts > 100) {\n",
       "        console.log(\"Bokeh: ERROR: Unable to embed document because BokehJS library is missing\")\n",
       "        clearInterval(timer);\n",
       "      }\n",
       "    }, 10, root)\n",
       "  }\n",
       "})(window);"
      ],
      "application/vnd.bokehjs_exec.v0+json": ""
     },
     "metadata": {
      "application/vnd.bokehjs_exec.v0+json": {
       "id": "9cac14c3-875d-47a6-9162-88676896e829"
      }
     },
     "output_type": "display_data"
    }
   ],
   "source": [
    "# Create a dataframe of lamba and accuracies\n",
    "train_results = pd.DataFrame({'lambda': np.log(clf.lamda_values), 'accuracy': clf.accuracies})\n",
    "# Make the plot\n",
    "utills.custom_analysis_line_plot(train_results, 1, 0, \"Training Accuracies vs Lambda\", xlab = \"Lambda\", \n",
    "                                 ylab = \"Accuracy\")"
   ]
  },
  {
   "cell_type": "markdown",
   "metadata": {},
   "source": [
    "We can see that the model has best performance at lambda value of 1 (which log value is 0) with the accuracy of 91.05%. Thus we used this lambda value to predict the best accuracy on the test set."
   ]
  },
  {
   "cell_type": "markdown",
   "metadata": {},
   "source": [
    "## Overall accuracy\n",
    "\n",
    "I am using the best model which I have selected using 5 fold cross validation on the train set that has lambda value of 1 and runs for 3000 iteration of gradient descent. I am applying this model on my test set to come up with the testing accuracy."
   ]
  },
  {
   "cell_type": "code",
   "execution_count": 89,
   "metadata": {},
   "outputs": [
    {
     "name": "stdout",
     "output_type": "stream",
     "text": [
      "The accuracy of the model with 1 as lambda is 90.87\n"
     ]
    }
   ],
   "source": [
    "# Transform the features using z score normalization\n",
    "X_test_norm = utills.z_score_norm(np.hstack((np.ones((X_test.shape[0], 1)), X_test)))\n",
    "\n",
    "# Encode the labels\n",
    "y_test_encoded = utills.onehot_encoder(y_test)\n",
    "\n",
    "# Make the prediction on test set\n",
    "pred = clf.predict(X_test_norm, y_test, store_df = False)\n",
    "\n",
    "# Calculate the accuracy\n",
    "accuracy = utills.accuracy(y_test, pred)\n",
    "\n",
    "# Print the lambda value used and the accuracy\n",
    "print(\"The accuracy of the model with\", clf.best_lamda, \"as lambda is\", accuracy)"
   ]
  },
  {
   "cell_type": "markdown",
   "metadata": {},
   "source": [
    "Thus the logistic regression model has an accuracy of 90.87% on the testing dataset which has better accuracy than the  naive bayes model that I did in the first question. Let just do some analysis over the trained model and test run results."
   ]
  },
  {
   "cell_type": "markdown",
   "metadata": {},
   "source": [
    "## Testing accuracies vs Lambda values\n",
    "\n",
    "Lets just see how the best selected model (ie. the one with 3000 epochs) is performing over the test set with different lambda values that where used while on training."
   ]
  },
  {
   "cell_type": "code",
   "execution_count": 98,
   "metadata": {},
   "outputs": [
    {
     "data": {
      "text/html": [
       "\n",
       "<div class=\"bk-root\">\n",
       "    <div class=\"bk-plotdiv\" id=\"b9efcce7-3a1b-43a2-b3ec-38dfd7248e49\"></div>\n",
       "</div>"
      ]
     },
     "metadata": {},
     "output_type": "display_data"
    },
    {
     "data": {
      "application/javascript": [
       "(function(root) {\n",
       "  function embed_document(root) {\n",
       "    var docs_json = {\"3d15ac4f-8e69-48e7-9d12-07002d99bd76\":{\"roots\":{\"references\":[{\"attributes\":{\"callback\":null},\"id\":\"ec10306e-9b0a-46f7-9f9e-c24388a70797\",\"type\":\"DataRange1d\"},{\"attributes\":{},\"id\":\"a737a841-7a05-4790-b560-0b02db465801\",\"type\":\"BasicTicker\"},{\"attributes\":{\"source\":{\"id\":\"17b3cd53-63c2-4ac8-afe1-b065801b942d\",\"type\":\"ColumnDataSource\"}},\"id\":\"e60ac7a3-b7e6-4901-b24d-d6c4b84d2bbd\",\"type\":\"CDSView\"},{\"attributes\":{\"callback\":null,\"column_names\":[\"x\",\"y\"],\"data\":{\"x\":{\"__ndarray__\":\"FVW1u7FrEsAVVbW7sWsCwAAAAAAAAAAAFlW1u7FrAkAWVbW7sWsSQA==\",\"dtype\":\"float64\",\"shape\":[5]},\"y\":{\"__ndarray__\":\"mpmZmZkZVEDNzMzMzMxVQEfhehSut1ZAr0fhehQ+VUCvR+F6FD5TQA==\",\"dtype\":\"float64\",\"shape\":[5]}}},\"id\":\"17b3cd53-63c2-4ac8-afe1-b065801b942d\",\"type\":\"ColumnDataSource\"},{\"attributes\":{\"callback\":null},\"id\":\"2be395ad-273c-4fd0-ae11-13634d8f696c\",\"type\":\"DataRange1d\"},{\"attributes\":{},\"id\":\"fb80d231-19b1-47dc-8a8a-5a7d2e7090b7\",\"type\":\"BasicTickFormatter\"},{\"attributes\":{\"line_color\":{\"value\":\"#6b6ecf\"},\"line_width\":{\"value\":4},\"x\":{\"field\":\"x\"},\"y\":{\"field\":\"y\"}},\"id\":\"6635abcd-f1d9-43c3-90f3-7f611c2d3d89\",\"type\":\"Line\"},{\"attributes\":{},\"id\":\"a9316dfa-edad-4117-b288-8774535c5445\",\"type\":\"LinearScale\"},{\"attributes\":{\"line_alpha\":{\"value\":0.1},\"line_color\":{\"value\":\"#1f77b4\"},\"line_width\":{\"value\":4},\"x\":{\"field\":\"x\"},\"y\":{\"field\":\"y\"}},\"id\":\"00ab899c-b417-4b2d-81e4-593b3ba9607c\",\"type\":\"Line\"},{\"attributes\":{\"axis_label\":\"Lambda\",\"axis_label_text_font_size\":{\"value\":\"20pt\"},\"formatter\":{\"id\":\"8a10191a-be78-43d2-8670-7cdb3eb39175\",\"type\":\"BasicTickFormatter\"},\"plot\":{\"id\":\"793a5a8d-4069-4f42-ba56-b30c0f816af5\",\"subtype\":\"Figure\",\"type\":\"Plot\"},\"ticker\":{\"id\":\"7b7a2952-f5d6-49b0-a2db-68b37b550288\",\"type\":\"BasicTicker\"}},\"id\":\"81ca0b86-6ba1-4d6f-9b72-7c4c48af7f22\",\"type\":\"LinearAxis\"},{\"attributes\":{},\"id\":\"8455c69c-9887-4f36-803b-e82736e46efc\",\"type\":\"HelpTool\"},{\"attributes\":{\"bottom_units\":\"screen\",\"fill_alpha\":{\"value\":0.5},\"fill_color\":{\"value\":\"lightgrey\"},\"left_units\":\"screen\",\"level\":\"overlay\",\"line_alpha\":{\"value\":1.0},\"line_color\":{\"value\":\"black\"},\"line_dash\":[4,4],\"line_width\":{\"value\":2},\"plot\":null,\"render_mode\":\"css\",\"right_units\":\"screen\",\"top_units\":\"screen\"},\"id\":\"b8e156ec-efbc-4340-bde9-b9d64b4c4255\",\"type\":\"BoxAnnotation\"},{\"attributes\":{},\"id\":\"70498989-9cac-4d2f-a9ea-cea687f57631\",\"type\":\"LinearScale\"},{\"attributes\":{},\"id\":\"23176029-238f-47aa-a5c7-73a2430f8eaa\",\"type\":\"SaveTool\"},{\"attributes\":{},\"id\":\"8a10191a-be78-43d2-8670-7cdb3eb39175\",\"type\":\"BasicTickFormatter\"},{\"attributes\":{\"align\":\"center\",\"plot\":null,\"text\":\"Testing Accuracies vs Lambda\",\"text_font_size\":{\"value\":\"20pt\"}},\"id\":\"953ac728-f30a-40b4-91d3-330f2bf700ef\",\"type\":\"Title\"},{\"attributes\":{\"below\":[{\"id\":\"81ca0b86-6ba1-4d6f-9b72-7c4c48af7f22\",\"type\":\"LinearAxis\"}],\"left\":[{\"id\":\"f669babe-dc91-4910-ba4c-3f856fd6e95c\",\"type\":\"LinearAxis\"}],\"plot_width\":800,\"renderers\":[{\"id\":\"81ca0b86-6ba1-4d6f-9b72-7c4c48af7f22\",\"type\":\"LinearAxis\"},{\"id\":\"b521fb55-3145-4310-a46c-f6a5030cfd29\",\"type\":\"Grid\"},{\"id\":\"f669babe-dc91-4910-ba4c-3f856fd6e95c\",\"type\":\"LinearAxis\"},{\"id\":\"150c27ae-3e74-4268-b5e9-370d8bc56090\",\"type\":\"Grid\"},{\"id\":\"b8e156ec-efbc-4340-bde9-b9d64b4c4255\",\"type\":\"BoxAnnotation\"},{\"id\":\"cae44a3a-06b0-4145-8ab7-2f38777baac9\",\"type\":\"GlyphRenderer\"}],\"title\":{\"id\":\"953ac728-f30a-40b4-91d3-330f2bf700ef\",\"type\":\"Title\"},\"toolbar\":{\"id\":\"e5067625-562e-436f-82f5-32e31e88824a\",\"type\":\"Toolbar\"},\"x_range\":{\"id\":\"2be395ad-273c-4fd0-ae11-13634d8f696c\",\"type\":\"DataRange1d\"},\"x_scale\":{\"id\":\"70498989-9cac-4d2f-a9ea-cea687f57631\",\"type\":\"LinearScale\"},\"y_range\":{\"id\":\"ec10306e-9b0a-46f7-9f9e-c24388a70797\",\"type\":\"DataRange1d\"},\"y_scale\":{\"id\":\"a9316dfa-edad-4117-b288-8774535c5445\",\"type\":\"LinearScale\"}},\"id\":\"793a5a8d-4069-4f42-ba56-b30c0f816af5\",\"subtype\":\"Figure\",\"type\":\"Plot\"},{\"attributes\":{\"plot\":{\"id\":\"793a5a8d-4069-4f42-ba56-b30c0f816af5\",\"subtype\":\"Figure\",\"type\":\"Plot\"},\"ticker\":{\"id\":\"7b7a2952-f5d6-49b0-a2db-68b37b550288\",\"type\":\"BasicTicker\"}},\"id\":\"b521fb55-3145-4310-a46c-f6a5030cfd29\",\"type\":\"Grid\"},{\"attributes\":{\"axis_label\":\"Accuracy\",\"axis_label_text_font_size\":{\"value\":\"20pt\"},\"formatter\":{\"id\":\"fb80d231-19b1-47dc-8a8a-5a7d2e7090b7\",\"type\":\"BasicTickFormatter\"},\"plot\":{\"id\":\"793a5a8d-4069-4f42-ba56-b30c0f816af5\",\"subtype\":\"Figure\",\"type\":\"Plot\"},\"ticker\":{\"id\":\"a737a841-7a05-4790-b560-0b02db465801\",\"type\":\"BasicTicker\"}},\"id\":\"f669babe-dc91-4910-ba4c-3f856fd6e95c\",\"type\":\"LinearAxis\"},{\"attributes\":{\"data_source\":{\"id\":\"17b3cd53-63c2-4ac8-afe1-b065801b942d\",\"type\":\"ColumnDataSource\"},\"glyph\":{\"id\":\"6635abcd-f1d9-43c3-90f3-7f611c2d3d89\",\"type\":\"Line\"},\"hover_glyph\":null,\"muted_glyph\":null,\"nonselection_glyph\":{\"id\":\"00ab899c-b417-4b2d-81e4-593b3ba9607c\",\"type\":\"Line\"},\"selection_glyph\":null,\"view\":{\"id\":\"e60ac7a3-b7e6-4901-b24d-d6c4b84d2bbd\",\"type\":\"CDSView\"}},\"id\":\"cae44a3a-06b0-4145-8ab7-2f38777baac9\",\"type\":\"GlyphRenderer\"},{\"attributes\":{},\"id\":\"c43d61f1-22be-4a3e-ac4a-9d5cb2dc1a2f\",\"type\":\"WheelZoomTool\"},{\"attributes\":{},\"id\":\"e17dc6b2-91cc-4583-8b55-72bb993cd256\",\"type\":\"ResetTool\"},{\"attributes\":{\"overlay\":{\"id\":\"b8e156ec-efbc-4340-bde9-b9d64b4c4255\",\"type\":\"BoxAnnotation\"}},\"id\":\"a8627718-758f-45a1-a8c1-a2f331e16a22\",\"type\":\"BoxZoomTool\"},{\"attributes\":{},\"id\":\"7b7a2952-f5d6-49b0-a2db-68b37b550288\",\"type\":\"BasicTicker\"},{\"attributes\":{\"dimension\":1,\"plot\":{\"id\":\"793a5a8d-4069-4f42-ba56-b30c0f816af5\",\"subtype\":\"Figure\",\"type\":\"Plot\"},\"ticker\":{\"id\":\"a737a841-7a05-4790-b560-0b02db465801\",\"type\":\"BasicTicker\"}},\"id\":\"150c27ae-3e74-4268-b5e9-370d8bc56090\",\"type\":\"Grid\"},{\"attributes\":{\"active_drag\":\"auto\",\"active_inspect\":\"auto\",\"active_scroll\":\"auto\",\"active_tap\":\"auto\",\"tools\":[{\"id\":\"dab758d8-2c36-4e30-a29f-3bb852cf004c\",\"type\":\"PanTool\"},{\"id\":\"c43d61f1-22be-4a3e-ac4a-9d5cb2dc1a2f\",\"type\":\"WheelZoomTool\"},{\"id\":\"a8627718-758f-45a1-a8c1-a2f331e16a22\",\"type\":\"BoxZoomTool\"},{\"id\":\"23176029-238f-47aa-a5c7-73a2430f8eaa\",\"type\":\"SaveTool\"},{\"id\":\"e17dc6b2-91cc-4583-8b55-72bb993cd256\",\"type\":\"ResetTool\"},{\"id\":\"8455c69c-9887-4f36-803b-e82736e46efc\",\"type\":\"HelpTool\"}]},\"id\":\"e5067625-562e-436f-82f5-32e31e88824a\",\"type\":\"Toolbar\"},{\"attributes\":{},\"id\":\"dab758d8-2c36-4e30-a29f-3bb852cf004c\",\"type\":\"PanTool\"}],\"root_ids\":[\"793a5a8d-4069-4f42-ba56-b30c0f816af5\"]},\"title\":\"Bokeh Application\",\"version\":\"0.12.10\"}};\n",
       "    var render_items = [{\"docid\":\"3d15ac4f-8e69-48e7-9d12-07002d99bd76\",\"elementid\":\"b9efcce7-3a1b-43a2-b3ec-38dfd7248e49\",\"modelid\":\"793a5a8d-4069-4f42-ba56-b30c0f816af5\"}];\n",
       "\n",
       "    root.Bokeh.embed.embed_items(docs_json, render_items);\n",
       "  }\n",
       "\n",
       "  if (root.Bokeh !== undefined) {\n",
       "    embed_document(root);\n",
       "  } else {\n",
       "    var attempts = 0;\n",
       "    var timer = setInterval(function(root) {\n",
       "      if (root.Bokeh !== undefined) {\n",
       "        embed_document(root);\n",
       "        clearInterval(timer);\n",
       "      }\n",
       "      attempts++;\n",
       "      if (attempts > 100) {\n",
       "        console.log(\"Bokeh: ERROR: Unable to embed document because BokehJS library is missing\")\n",
       "        clearInterval(timer);\n",
       "      }\n",
       "    }, 10, root)\n",
       "  }\n",
       "})(window);"
      ],
      "application/vnd.bokehjs_exec.v0+json": ""
     },
     "metadata": {
      "application/vnd.bokehjs_exec.v0+json": {
       "id": "793a5a8d-4069-4f42-ba56-b30c0f816af5"
      }
     },
     "output_type": "display_data"
    }
   ],
   "source": [
    "# Create a dataframe of lamba and accuracies\n",
    "test_results = pd.DataFrame({'lambda': np.log(clf.lamda_values), 'accuracy': clf.testing_accuracies})\n",
    "# Make the plot\n",
    "utills.custom_analysis_line_plot(test_results, 1, 0, \"Testing Accuracies vs Lambda\", xlab = \"Lambda\", \n",
    "                                 ylab = \"Accuracy\")"
   ]
  },
  {
   "cell_type": "markdown",
   "metadata": {},
   "source": [
    "Thus the abpve plot shows that with different lambda values (0.01, 0.1, 1, 10, 100) on the test set, we get the maximum performance of 90.87 when we set the lambda equal to 1."
   ]
  },
  {
   "cell_type": "markdown",
   "metadata": {
    "collapsed": true
   },
   "source": [
    "## Confusion Matrix\n",
    "\n",
    "Lets view little deep inside the test set accuracy using the confusion matrix."
   ]
  },
  {
   "cell_type": "code",
   "execution_count": 91,
   "metadata": {},
   "outputs": [
    {
     "data": {
      "image/png": "[encoded data removed]",
      "text/plain": [
       "<matplotlib.figure.Figure at 0x1c235d4d30>"
      ]
     },
     "metadata": {},
     "output_type": "display_data"
    }
   ],
   "source": [
    "utills.confusion_matrix_plot(y_test, pred)"
   ]
  },
  {
   "cell_type": "markdown",
   "metadata": {},
   "source": [
    "From the above confusion matrix, we can infer the following\n",
    "\n",
    "- Most of the 2s are getting predicted to be 8 by this model\n",
    "- Similarly, next to that most of the 9s are predcited to 4 by the model\n",
    "- Right after both of the above misclassification, we have our 5s most likely to be predcited as 8"
   ]
  },
  {
   "cell_type": "markdown",
   "metadata": {
    "collapsed": true
   },
   "source": [
    "## Testing Accuracy on each digit\n",
    "\n",
    "It is quite obvious that confusion matrix cannot provide you with accurate information on each set accuracy although it provides some pattern. Let see what is accuracy and error on each digits below."
   ]
  },
  {
   "cell_type": "code",
   "execution_count": 92,
   "metadata": {},
   "outputs": [
    {
     "data": {
      "text/html": [
       "<div>\n",
       "<style>\n",
       "    .dataframe thead tr:only-child th {\n",
       "        text-align: right;\n",
       "    }\n",
       "\n",
       "    .dataframe thead th {\n",
       "        text-align: left;\n",
       "    }\n",
       "\n",
       "    .dataframe tbody tr th {\n",
       "        vertical-align: top;\n",
       "    }\n",
       "</style>\n",
       "<table border=\"1\" class=\"dataframe\">\n",
       "  <thead>\n",
       "    <tr style=\"text-align: right;\">\n",
       "      <th></th>\n",
       "      <th>Accuracy (%)</th>\n",
       "      <th>Error (%)</th>\n",
       "      <th>Label</th>\n",
       "    </tr>\n",
       "  </thead>\n",
       "  <tbody>\n",
       "    <tr>\n",
       "      <th>0</th>\n",
       "      <td>97.3469</td>\n",
       "      <td>2.6531</td>\n",
       "      <td>0</td>\n",
       "    </tr>\n",
       "    <tr>\n",
       "      <th>1</th>\n",
       "      <td>96.2115</td>\n",
       "      <td>3.7885</td>\n",
       "      <td>1</td>\n",
       "    </tr>\n",
       "    <tr>\n",
       "      <th>2</th>\n",
       "      <td>87.0155</td>\n",
       "      <td>12.9845</td>\n",
       "      <td>2</td>\n",
       "    </tr>\n",
       "    <tr>\n",
       "      <th>3</th>\n",
       "      <td>89.2079</td>\n",
       "      <td>10.7921</td>\n",
       "      <td>3</td>\n",
       "    </tr>\n",
       "    <tr>\n",
       "      <th>4</th>\n",
       "      <td>91.7515</td>\n",
       "      <td>8.2485</td>\n",
       "      <td>4</td>\n",
       "    </tr>\n",
       "    <tr>\n",
       "      <th>5</th>\n",
       "      <td>87.2197</td>\n",
       "      <td>12.7803</td>\n",
       "      <td>5</td>\n",
       "    </tr>\n",
       "    <tr>\n",
       "      <th>6</th>\n",
       "      <td>93.7370</td>\n",
       "      <td>6.2630</td>\n",
       "      <td>6</td>\n",
       "    </tr>\n",
       "    <tr>\n",
       "      <th>7</th>\n",
       "      <td>90.8560</td>\n",
       "      <td>9.1440</td>\n",
       "      <td>7</td>\n",
       "    </tr>\n",
       "    <tr>\n",
       "      <th>8</th>\n",
       "      <td>87.9877</td>\n",
       "      <td>12.0123</td>\n",
       "      <td>8</td>\n",
       "    </tr>\n",
       "    <tr>\n",
       "      <th>9</th>\n",
       "      <td>86.6204</td>\n",
       "      <td>13.3796</td>\n",
       "      <td>9</td>\n",
       "    </tr>\n",
       "  </tbody>\n",
       "</table>\n",
       "</div>"
      ],
      "text/plain": [
       "   Accuracy (%)  Error (%)  Label\n",
       "0       97.3469     2.6531      0\n",
       "1       96.2115     3.7885      1\n",
       "2       87.0155    12.9845      2\n",
       "3       89.2079    10.7921      3\n",
       "4       91.7515     8.2485      4\n",
       "5       87.2197    12.7803      5\n",
       "6       93.7370     6.2630      6\n",
       "7       90.8560     9.1440      7\n",
       "8       87.9877    12.0123      8\n",
       "9       86.6204    13.3796      9"
      ]
     },
     "execution_count": 92,
     "metadata": {},
     "output_type": "execute_result"
    }
   ],
   "source": [
    "result_lr = utills.testing_error(y_test, pred)\n",
    "result_lr"
   ]
  },
  {
   "cell_type": "code",
   "execution_count": 96,
   "metadata": {},
   "outputs": [
    {
     "data": {
      "text/html": [
       "\n",
       "<div class=\"bk-root\">\n",
       "    <div class=\"bk-plotdiv\" id=\"6478c5e9-8c7a-452f-88b7-9d737cdc38ab\"></div>\n",
       "</div>"
      ]
     },
     "metadata": {},
     "output_type": "display_data"
    },
    {
     "data": {
      "application/javascript": [
       "(function(root) {\n",
       "  function embed_document(root) {\n",
       "    var docs_json = {\"7b513aff-8040-4d45-b708-7393e9f8b98f\":{\"roots\":{\"references\":[{\"attributes\":{\"source\":{\"id\":\"b14d8372-6dbc-4f26-aefd-5775737c129b\",\"type\":\"ColumnDataSource\"}},\"id\":\"62bab52a-b928-4e19-a888-11fe9ca89468\",\"type\":\"CDSView\"},{\"attributes\":{},\"id\":\"fc823cc8-5f63-452f-87bc-fe04c9f29fa5\",\"type\":\"SaveTool\"},{\"attributes\":{},\"id\":\"c9fe4841-b3e7-43f5-bcdc-958962993518\",\"type\":\"PanTool\"},{\"attributes\":{\"callback\":null},\"id\":\"8cb78793-d29d-4099-b210-173e837ea6d9\",\"type\":\"DataRange1d\"},{\"attributes\":{\"dimension\":1,\"plot\":{\"id\":\"65b22c49-257f-4b28-88cc-b32e26efd0e5\",\"subtype\":\"Figure\",\"type\":\"Plot\"},\"ticker\":{\"id\":\"db226959-ec88-4b96-a066-6fceea2ea6dd\",\"type\":\"BasicTicker\"}},\"id\":\"dad25e9b-8b5f-4845-8563-24277aa0e83b\",\"type\":\"Grid\"},{\"attributes\":{},\"id\":\"a2b4292e-a034-44f5-be3e-6f64d19c300f\",\"type\":\"LinearScale\"},{\"attributes\":{},\"id\":\"27d05e45-d47b-4913-a651-2e5942c20f97\",\"type\":\"BasicTickFormatter\"},{\"attributes\":{\"active_drag\":\"auto\",\"active_inspect\":\"auto\",\"active_scroll\":\"auto\",\"active_tap\":\"auto\",\"tools\":[{\"id\":\"c9fe4841-b3e7-43f5-bcdc-958962993518\",\"type\":\"PanTool\"},{\"id\":\"b13e9d5a-3bb1-4c16-800d-8546aeb89466\",\"type\":\"WheelZoomTool\"},{\"id\":\"b9b56d4e-f24c-4ae1-8aec-ac359aa9bf2d\",\"type\":\"BoxZoomTool\"},{\"id\":\"fc823cc8-5f63-452f-87bc-fe04c9f29fa5\",\"type\":\"SaveTool\"},{\"id\":\"c7db8211-d215-4754-857c-918cd9eca1c7\",\"type\":\"ResetTool\"},{\"id\":\"88fddd0d-d4ab-4d92-82e8-26d1cb1055ed\",\"type\":\"HelpTool\"}]},\"id\":\"23fc3d77-8197-44e0-95ae-681e36d7a576\",\"type\":\"Toolbar\"},{\"attributes\":{},\"id\":\"88fddd0d-d4ab-4d92-82e8-26d1cb1055ed\",\"type\":\"HelpTool\"},{\"attributes\":{\"bottom_units\":\"screen\",\"fill_alpha\":{\"value\":0.5},\"fill_color\":{\"value\":\"lightgrey\"},\"left_units\":\"screen\",\"level\":\"overlay\",\"line_alpha\":{\"value\":1.0},\"line_color\":{\"value\":\"black\"},\"line_dash\":[4,4],\"line_width\":{\"value\":2},\"plot\":null,\"render_mode\":\"css\",\"right_units\":\"screen\",\"top_units\":\"screen\"},\"id\":\"bdeeebeb-a6e8-410b-8345-c3ce7745874d\",\"type\":\"BoxAnnotation\"},{\"attributes\":{\"callback\":null},\"id\":\"4bd20448-2238-4417-9dc0-b40377f0085f\",\"type\":\"DataRange1d\"},{\"attributes\":{\"plot\":{\"id\":\"65b22c49-257f-4b28-88cc-b32e26efd0e5\",\"subtype\":\"Figure\",\"type\":\"Plot\"},\"ticker\":{\"id\":\"84ea7734-7c26-48ca-ad77-7708880ea7dc\",\"type\":\"BasicTicker\"}},\"id\":\"7ce808dd-e3af-40f7-8e0f-2a1cbaeebf5b\",\"type\":\"Grid\"},{\"attributes\":{\"line_color\":{\"value\":\"#6b6ecf\"},\"line_width\":{\"value\":4},\"x\":{\"field\":\"x\"},\"y\":{\"field\":\"y\"}},\"id\":\"9fa44db6-fb04-42f0-a9d3-59f239beddf2\",\"type\":\"Line\"},{\"attributes\":{},\"id\":\"e65c8ff3-7bdc-4557-a415-0471536e1c21\",\"type\":\"LinearScale\"},{\"attributes\":{\"below\":[{\"id\":\"25436867-0086-4fd5-8c68-373a110e65ab\",\"type\":\"LinearAxis\"}],\"left\":[{\"id\":\"8c683240-3dae-44e4-a675-3f1313aac257\",\"type\":\"LinearAxis\"}],\"plot_width\":800,\"renderers\":[{\"id\":\"25436867-0086-4fd5-8c68-373a110e65ab\",\"type\":\"LinearAxis\"},{\"id\":\"7ce808dd-e3af-40f7-8e0f-2a1cbaeebf5b\",\"type\":\"Grid\"},{\"id\":\"8c683240-3dae-44e4-a675-3f1313aac257\",\"type\":\"LinearAxis\"},{\"id\":\"dad25e9b-8b5f-4845-8563-24277aa0e83b\",\"type\":\"Grid\"},{\"id\":\"bdeeebeb-a6e8-410b-8345-c3ce7745874d\",\"type\":\"BoxAnnotation\"},{\"id\":\"9a32f4d7-0d4c-430d-96b5-e4e5e1781b08\",\"type\":\"GlyphRenderer\"}],\"title\":{\"id\":\"07413641-0716-44c9-82dd-1776efea0e58\",\"type\":\"Title\"},\"toolbar\":{\"id\":\"23fc3d77-8197-44e0-95ae-681e36d7a576\",\"type\":\"Toolbar\"},\"x_range\":{\"id\":\"4bd20448-2238-4417-9dc0-b40377f0085f\",\"type\":\"DataRange1d\"},\"x_scale\":{\"id\":\"a2b4292e-a034-44f5-be3e-6f64d19c300f\",\"type\":\"LinearScale\"},\"y_range\":{\"id\":\"8cb78793-d29d-4099-b210-173e837ea6d9\",\"type\":\"DataRange1d\"},\"y_scale\":{\"id\":\"e65c8ff3-7bdc-4557-a415-0471536e1c21\",\"type\":\"LinearScale\"}},\"id\":\"65b22c49-257f-4b28-88cc-b32e26efd0e5\",\"subtype\":\"Figure\",\"type\":\"Plot\"},{\"attributes\":{},\"id\":\"b13e9d5a-3bb1-4c16-800d-8546aeb89466\",\"type\":\"WheelZoomTool\"},{\"attributes\":{\"callback\":null,\"column_names\":[\"x\",\"y\"],\"data\":{\"x\":[0,1,2,3,4,5,6,7,8,9],\"y\":{\"__ndarray__\":\"4L4OnDNWWECoxks3iQ1YQKJFtvP9wFVAqDXNO05NVkBqvHSTGPBWQJm7lpAPzlVAukkMAitvV0AQWDm0yLZWQJeQD3o2/1VAD5wzorSnVUA=\",\"dtype\":\"float64\",\"shape\":[10]}}},\"id\":\"b14d8372-6dbc-4f26-aefd-5775737c129b\",\"type\":\"ColumnDataSource\"},{\"attributes\":{},\"id\":\"c94d2647-b2fe-4c46-8385-8ac36b0acd00\",\"type\":\"BasicTickFormatter\"},{\"attributes\":{\"overlay\":{\"id\":\"bdeeebeb-a6e8-410b-8345-c3ce7745874d\",\"type\":\"BoxAnnotation\"}},\"id\":\"b9b56d4e-f24c-4ae1-8aec-ac359aa9bf2d\",\"type\":\"BoxZoomTool\"},{\"attributes\":{},\"id\":\"db226959-ec88-4b96-a066-6fceea2ea6dd\",\"type\":\"BasicTicker\"},{\"attributes\":{\"data_source\":{\"id\":\"b14d8372-6dbc-4f26-aefd-5775737c129b\",\"type\":\"ColumnDataSource\"},\"glyph\":{\"id\":\"9fa44db6-fb04-42f0-a9d3-59f239beddf2\",\"type\":\"Line\"},\"hover_glyph\":null,\"muted_glyph\":null,\"nonselection_glyph\":{\"id\":\"bd0a2d5f-794e-4aa7-b2a3-1e35737ea7ee\",\"type\":\"Line\"},\"selection_glyph\":null,\"view\":{\"id\":\"62bab52a-b928-4e19-a888-11fe9ca89468\",\"type\":\"CDSView\"}},\"id\":\"9a32f4d7-0d4c-430d-96b5-e4e5e1781b08\",\"type\":\"GlyphRenderer\"},{\"attributes\":{\"line_alpha\":{\"value\":0.1},\"line_color\":{\"value\":\"#1f77b4\"},\"line_width\":{\"value\":4},\"x\":{\"field\":\"x\"},\"y\":{\"field\":\"y\"}},\"id\":\"bd0a2d5f-794e-4aa7-b2a3-1e35737ea7ee\",\"type\":\"Line\"},{\"attributes\":{},\"id\":\"c7db8211-d215-4754-857c-918cd9eca1c7\",\"type\":\"ResetTool\"},{\"attributes\":{\"axis_label\":\"Testing Accuracy (%)\",\"axis_label_text_font_size\":{\"value\":\"20pt\"},\"formatter\":{\"id\":\"c94d2647-b2fe-4c46-8385-8ac36b0acd00\",\"type\":\"BasicTickFormatter\"},\"plot\":{\"id\":\"65b22c49-257f-4b28-88cc-b32e26efd0e5\",\"subtype\":\"Figure\",\"type\":\"Plot\"},\"ticker\":{\"id\":\"db226959-ec88-4b96-a066-6fceea2ea6dd\",\"type\":\"BasicTicker\"}},\"id\":\"8c683240-3dae-44e4-a675-3f1313aac257\",\"type\":\"LinearAxis\"},{\"attributes\":{},\"id\":\"84ea7734-7c26-48ca-ad77-7708880ea7dc\",\"type\":\"BasicTicker\"},{\"attributes\":{\"align\":\"center\",\"plot\":null,\"text\":\"Accuracy For Each Digits\",\"text_font_size\":{\"value\":\"20pt\"}},\"id\":\"07413641-0716-44c9-82dd-1776efea0e58\",\"type\":\"Title\"},{\"attributes\":{\"axis_label\":\"Labels/Digits\",\"axis_label_text_font_size\":{\"value\":\"20pt\"},\"formatter\":{\"id\":\"27d05e45-d47b-4913-a651-2e5942c20f97\",\"type\":\"BasicTickFormatter\"},\"plot\":{\"id\":\"65b22c49-257f-4b28-88cc-b32e26efd0e5\",\"subtype\":\"Figure\",\"type\":\"Plot\"},\"ticker\":{\"id\":\"84ea7734-7c26-48ca-ad77-7708880ea7dc\",\"type\":\"BasicTicker\"}},\"id\":\"25436867-0086-4fd5-8c68-373a110e65ab\",\"type\":\"LinearAxis\"}],\"root_ids\":[\"65b22c49-257f-4b28-88cc-b32e26efd0e5\"]},\"title\":\"Bokeh Application\",\"version\":\"0.12.10\"}};\n",
       "    var render_items = [{\"docid\":\"7b513aff-8040-4d45-b708-7393e9f8b98f\",\"elementid\":\"6478c5e9-8c7a-452f-88b7-9d737cdc38ab\",\"modelid\":\"65b22c49-257f-4b28-88cc-b32e26efd0e5\"}];\n",
       "\n",
       "    root.Bokeh.embed.embed_items(docs_json, render_items);\n",
       "  }\n",
       "\n",
       "  if (root.Bokeh !== undefined) {\n",
       "    embed_document(root);\n",
       "  } else {\n",
       "    var attempts = 0;\n",
       "    var timer = setInterval(function(root) {\n",
       "      if (root.Bokeh !== undefined) {\n",
       "        embed_document(root);\n",
       "        clearInterval(timer);\n",
       "      }\n",
       "      attempts++;\n",
       "      if (attempts > 100) {\n",
       "        console.log(\"Bokeh: ERROR: Unable to embed document because BokehJS library is missing\")\n",
       "        clearInterval(timer);\n",
       "      }\n",
       "    }, 10, root)\n",
       "  }\n",
       "})(window);"
      ],
      "application/vnd.bokehjs_exec.v0+json": ""
     },
     "metadata": {
      "application/vnd.bokehjs_exec.v0+json": {
       "id": "65b22c49-257f-4b28-88cc-b32e26efd0e5"
      }
     },
     "output_type": "display_data"
    }
   ],
   "source": [
    "utills.custom_analysis_line_plot(data = result_lr, x_col = 2, y_col = 0, title = \"Accuracy For Each Digits\", \n",
    "                     width = 800, height = 600, xlab = \"Labels/Digits\", ylab = \"Testing Accuracy (%)\", line_width = 4)"
   ]
  },
  {
   "cell_type": "markdown",
   "metadata": {},
   "source": [
    "From the above table and the graph I have the below inferences\n",
    "\n",
    "- Best prediction is for digit \"0\" with accuracy of 97.3469% which is quite good\n",
    "- Worst prediction is for digit \"9\" with accuracy of 86.6204% but we can say that it is not that bad\n",
    "- Digits such as \"0\", \"1\", \"4\", \"6\", \"7\" have accuracy rates greater than 90%"
   ]
  },
  {
   "cell_type": "markdown",
   "metadata": {},
   "source": [
    "## Weights plot\n",
    "\n",
    "Here I have plotted the weights coverted into 28 * 28 image for each classes to see whether there is any hidden patterns in the trained weights from the logistic model."
   ]
  },
  {
   "cell_type": "code",
   "execution_count": 94,
   "metadata": {},
   "outputs": [
    {
     "data": {
      "image/png": "[encoded data removed]",
      "text/plain": [
       "<matplotlib.figure.Figure at 0x1c235d4a90>"
      ]
     },
     "metadata": {},
     "output_type": "display_data"
    }
   ],
   "source": [
    "clf.weights_plot(np.unique(y_test))"
   ]
  },
  {
   "cell_type": "markdown",
   "metadata": {},
   "source": [
    "And as I expected, the plotted weights of the classes shows the pattern for each of the digit although it is not pretty clear due the noises. If we look close on the weights plot, we can see the corressponding digit visible on the plot. This is awesome and clears the fact that how logistic regression uses the weights that are patterns for each digits and predicts the label for new images.\n",
    "\n",
    "Further in the confusion matrix plot we say that 2s are predcited to be 8s. Now if you see the weight plots are 2 and 8, you can see that there is lot of similarity between the those. And that is the reason for the misclassification and thats how logistic regression works."
   ]
  }
 ],
 "metadata": {
  "kernelspec": {
   "display_name": "Python 3",
   "language": "python",
   "name": "python3"
  },
  "language_info": {
   "codemirror_mode": {
    "name": "ipython",
    "version": 3
   },
   "file_extension": ".py",
   "mimetype": "text/x-python",
   "name": "python",
   "nbconvert_exporter": "python",
   "pygments_lexer": "ipython3",
   "version": "3.6.3"
  }
 },
 "nbformat": 4,
 "nbformat_minor": 2
}
